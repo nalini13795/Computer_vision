{
  "cells": [
    {
      "cell_type": "markdown",
      "id": "367ea638",
      "metadata": {
        "id": "367ea638"
      },
      "source": [
        "# ITCS 4152/5152 Assignment3-Part1\n",
        "**Due date: 11:59 pm EST on Nov 16, 2022 (Wed.)**\n",
        "\n",
        "---\n",
        "In this semester, we will use Google Colab for the assignments, which allows us to utilize resources that some of us might not have in their local machines such as GPUs. You will need to use your UNC Charlotte (*.uncc.edu) account for coding and Google Drive to save your results.\n",
        "\n",
        "## Google Colab Tutorial\n",
        "---\n",
        "Go to https://colab.research.google.com/notebooks/, you will see a tutorial named \"Welcome to Colaboratory\" file, where you can learn the basics of using google colab.\n",
        "\n",
        "Settings used for assignments: ***Edit -> Notebook Settings -> Runtime Type (Python 3)***.\n",
        "\n",
        "\n",
        "## Description\n",
        "---\n",
        "This project is an introduction to deep learning tools for computer vision. You will design and train deep convolutional networks for scene recognition using [PyTorch](http://pytorch.org). You can visualize the\n",
        "structure of the network with [mNeuron] (http://vision03.csail.mit.edu/cnn_art/index.html)\n",
        "\n",
        "In the previous you have trained a deep convolutional network from scratch to recognize scenes. The starter codes similar to the previous assignment gives you methods to load data and display them. In the previous assignment you might have managed to achieve a recognition accuracy to 50, 60, or perhaps 70%. Unfortunately, we only have 2,400 training examples so it doesn't seem possible to train a network from scratch which outperforms hand-crafted features\n",
        "\n",
        "Therefore, in this assignment, you will instead fine-tune a pre-trained deep network to achieve about 85% accuracy on the task. We will use the pretrained AlexNet network which was not trained to recognize scenes at all.\n",
        "\n",
        "This approach and the previous approach of training from the scratch represent the most common approaches to recognition problems in computer vision today -- train a deep network from scratch if you have enough data (it's not always obvious whether or not you do), and if you cannot then instead fine-tune a pre-trained network.\n",
        "\n",
        "There are 3 sub problems (under Problem 1) in this homework with a total of 70 points and 10 bonus points. Be sure to read **Submission Guidelines** below. They are important. For the problems requiring text descriptions, you might want to add a markdown block for that. **Note that the instructor and the TAs are not going to provide any further information regarding the bonus question**.\n",
        "\n",
        "## Dataset\n",
        "---\n",
        "Save the [dataset(click me)](https://drive.google.com/open?id=1NWC3TMsXSWN2TeoYMCjhf2N1b-WRDh-M) into your working folder in your Google Drive for this homework. <br>\n",
        "Under your root folder, there should be a folder named \"data\" (i.e. XXX/Surname_Givenname_UNCCID/data) containing the images.\n",
        "**Do not upload** the data subfolder before submitting on blackboard due to size limit. There should be only one .ipynb file under your root folder Surname_Givenname_UNCCID.\n",
        "\n",
        "## Some Tutorials (PyTorch)\n",
        "---\n",
        "- You will be using PyTorch for deep learning toolbox (follow the [link](http://pytorch.org) for installation).\n",
        "- For PyTorch beginners, please read this [tutorial](http://pytorch.org/tutorials/beginner/deep_learning_60min_blitz.html) before doing your homework.\n",
        "- Feel free to study more tutorials at http://pytorch.org/tutorials/.\n",
        "- Find cool visualization here at http://playground.tensorflow.org."
      ]
    },
    {
      "cell_type": "code",
      "execution_count": 1,
      "id": "163b6de2",
      "metadata": {
        "id": "163b6de2"
      },
      "outputs": [],
      "source": [
        "# import packages here\n",
        "import cv2\n",
        "import numpy as np\n",
        "import matplotlib.pyplot as plt\n",
        "import glob\n",
        "import random \n",
        "import time\n",
        "\n",
        "import torch\n",
        "import torchvision\n",
        "import torchvision.transforms as transforms\n",
        "\n",
        "from torch.autograd import Variable\n",
        "import torch.nn as nn\n",
        "import torch.nn.functional as F\n",
        "import copy"
      ]
    },
    {
      "cell_type": "code",
      "execution_count": 2,
      "id": "502f4fec",
      "metadata": {
        "colab": {
          "base_uri": "https://localhost:8080/"
        },
        "id": "502f4fec",
        "outputId": "00feaa80-60bc-4dbf-cfbc-830a803acd62"
      },
      "outputs": [
        {
          "output_type": "stream",
          "name": "stdout",
          "text": [
            "Mounted at /content/gdrive\n"
          ]
        }
      ],
      "source": [
        "# Mount your google drive where you've saved your assignment folder\n",
        "from google.colab import drive\n",
        "drive.mount('/content/gdrive')"
      ]
    },
    {
      "cell_type": "code",
      "execution_count": 3,
      "id": "b41de13c",
      "metadata": {
        "colab": {
          "base_uri": "https://localhost:8080/"
        },
        "id": "b41de13c",
        "outputId": "13ad4304-9973-4a51-cacf-50e63607ea36"
      },
      "outputs": [
        {
          "output_type": "stream",
          "name": "stdout",
          "text": [
            "/content/gdrive/MyDrive/CV/Katiyar_Nalini_801204572_assignment3_part1\n"
          ]
        }
      ],
      "source": [
        "# Replace '------' with the path such that \"ITCS_4152_5152_assignment2\" is your working directory\n",
        "%cd '/content/gdrive/MyDrive/CV/Katiyar_Nalini_801204572_assignment3_part1/'"
      ]
    },
    {
      "cell_type": "markdown",
      "id": "437b789c",
      "metadata": {
        "id": "437b789c"
      },
      "source": [
        "## Problem 0: Loading and Preprocessing data\n",
        "---\n",
        "(0 point) In this part, you are provided with a function that loads data into minibatches for training and testing in PyTorch. However, some preprocessing parts are missing. Your will need to implement them when doing Problem 1."
      ]
    },
    {
      "cell_type": "code",
      "execution_count": 4,
      "id": "1988d6ee",
      "metadata": {
        "colab": {
          "base_uri": "https://localhost:8080/"
        },
        "id": "1988d6ee",
        "outputId": "39d1b596-599b-4bb0-9d15-4b87e72a58e1"
      },
      "outputs": [
        {
          "output_type": "stream",
          "name": "stdout",
          "text": [
            "class_names: {0: 'Forest', 1: 'Flower', 2: 'Coast', 3: 'Bedroom', 4: 'Office', 5: 'Mountain', 6: 'Kitchen', 7: 'OpenCountry', 8: 'Street', 9: 'Highway', 10: 'InsideCity', 11: 'Store', 12: 'LivingRoom', 13: 'Industrial', 14: 'TallBuilding', 15: 'Suburb'} \n"
          ]
        }
      ],
      "source": [
        "#--------------------------------------------------\n",
        "#    Load Training Data and Testing Data\n",
        "#--------------------------------------------------\n",
        "\n",
        "def set_random_seed(seed):\n",
        "     torch.manual_seed(seed)\n",
        "     torch.cuda.manual_seed_all(seed)\n",
        "     np.random.seed(seed)\n",
        "     random.seed(seed)\n",
        "     torch.backends.cudnn.deterministic = True\n",
        "set_random_seed(0)\n",
        "\n",
        "class_names = [name[13:] for name in glob.glob('./data/train/*')]\n",
        "class_names = dict(zip(range(len(class_names)), class_names))\n",
        "print(\"class_names: %s \" % class_names)\n",
        "\n",
        "def load_dataset(path, img_size, num_per_class=-1, batch_size=16, shuffle=False,\n",
        "           augment=False, is_color=False, zero_centered=False):    \n",
        "    data = []\n",
        "    labels = []    \n",
        "    channel_num = 3 if is_color else 1\n",
        "        \n",
        "    # read images and resizing\n",
        "    for id, class_name in class_names.items():\n",
        "        print(\"Loading images from class: %s\" % id)\n",
        "        img_path_class = glob.glob(path + class_name + '/*.jpg')\n",
        "        if num_per_class > 0:\n",
        "            img_path_class = img_path_class[:num_per_class]\n",
        "        labels.extend([id]*len(img_path_class))\n",
        "        for filename in img_path_class:\n",
        "            if is_color:\n",
        "                img = cv2.imread(filename)\n",
        "            else:\n",
        "                img = cv2.imread(filename, 0)\n",
        "            \n",
        "            # resize the image\n",
        "            img = cv2.resize(img, img_size, cv2.INTER_LINEAR)\n",
        "            \n",
        "            if is_color:\n",
        "                img = np.transpose(img, [2, 0, 1])\n",
        "            \n",
        "            # norm pixel values to [-1, 1]\n",
        "            data.append(img.astype(np.float)/255*2-1)\n",
        "            \n",
        "    ##########--WRITE YOUR CODE HERE--##########\n",
        "    # Data Augmentation \n",
        "    if augment: \n",
        "        for i in range(len(data)):\n",
        "          flip_img = cv2.flip(data[i], 1)\n",
        "          data.append(flip_img)\n",
        "          labels.append(labels[i])\n",
        "\n",
        "    ##########-------END OF CODE-------##########    \n",
        "    \n",
        "    ##########--WRITE YOUR CODE HERE--##########\n",
        "    # Data Normalization\n",
        "    if zero_centered:\n",
        "        mean = np.mean(data, axis=0)\n",
        "        for index in range(len(data)):\n",
        "          data[index]-= mean\n",
        "\n",
        "        \n",
        "    ##########-------END OF CODE-------##########\n",
        "         \n",
        "    # randomly permute (this step is important for training)\n",
        "    if shuffle:\n",
        "        bundle = list(zip(data, labels))\n",
        "        random.shuffle(bundle)\n",
        "        data, labels = zip(*bundle)\n",
        "    \n",
        "    # divide data into minibatches of TorchTensors\n",
        "    if batch_size > 1:\n",
        "        batch_data = []\n",
        "        batch_labels = []\n",
        "         \n",
        "        for i in range(int(len(data) / batch_size)):\n",
        "            minibatch_d = data[i*batch_size: (i+1)*batch_size]\n",
        "            minibatch_d = np.reshape(minibatch_d, (batch_size, channel_num, img_size[0], img_size[1]))\n",
        "            batch_data.append(torch.from_numpy(minibatch_d))\n",
        "\n",
        "            minibatch_l = labels[i*batch_size: (i+1)*batch_size]\n",
        "            batch_labels.append(torch.LongTensor(minibatch_l))\n",
        "        data, labels = batch_data, batch_labels \n",
        "    \n",
        "    return zip(batch_data, batch_labels)"
      ]
    },
    {
      "cell_type": "code",
      "execution_count": 5,
      "id": "9483a7cd",
      "metadata": {
        "colab": {
          "base_uri": "https://localhost:8080/"
        },
        "id": "9483a7cd",
        "outputId": "193bc595-5b8e-4fc6-f5d6-fe8aca1a1de1"
      },
      "outputs": [
        {
          "output_type": "stream",
          "name": "stdout",
          "text": [
            "Loading images from class: 0\n"
          ]
        },
        {
          "output_type": "stream",
          "name": "stderr",
          "text": [
            "/usr/local/lib/python3.7/dist-packages/ipykernel_launcher.py:43: DeprecationWarning: `np.float` is a deprecated alias for the builtin `float`. To silence this warning, use `float` by itself. Doing this will not modify any behavior and is safe. If you specifically wanted the numpy scalar type, use `np.float64` here.\n",
            "Deprecated in NumPy 1.20; for more details and guidance: https://numpy.org/devdocs/release/1.20.0-notes.html#deprecations\n"
          ]
        },
        {
          "output_type": "stream",
          "name": "stdout",
          "text": [
            "Loading images from class: 1\n",
            "Loading images from class: 2\n",
            "Loading images from class: 3\n",
            "Loading images from class: 4\n",
            "Loading images from class: 5\n",
            "Loading images from class: 6\n",
            "Loading images from class: 7\n",
            "Loading images from class: 8\n",
            "Loading images from class: 9\n",
            "Loading images from class: 10\n",
            "Loading images from class: 11\n",
            "Loading images from class: 12\n",
            "Loading images from class: 13\n",
            "Loading images from class: 14\n",
            "Loading images from class: 15\n",
            "Finish loading 37 minibatches (batch_size=64) of training samples.\n",
            "Loading images from class: 0\n",
            "Loading images from class: 1\n",
            "Loading images from class: 2\n",
            "Loading images from class: 3\n",
            "Loading images from class: 4\n",
            "Loading images from class: 5\n",
            "Loading images from class: 6\n",
            "Loading images from class: 7\n",
            "Loading images from class: 8\n",
            "Loading images from class: 9\n",
            "Loading images from class: 10\n",
            "Loading images from class: 11\n",
            "Loading images from class: 12\n",
            "Loading images from class: 13\n",
            "Loading images from class: 14\n",
            "Loading images from class: 15\n",
            "Finish loading 6 minibatches (batch_size=64) of testing samples.\n"
          ]
        }
      ],
      "source": [
        "# load data into size (64, 64)\n",
        "img_size = (64, 64)\n",
        "batch_size = 64 # training sample number per batch\n",
        "\n",
        "# load training dataset\n",
        "trainloader_small = list(load_dataset('./data/train/', img_size, batch_size=batch_size, shuffle=True))\n",
        "train_num = len(trainloader_small)\n",
        "print(\"Finish loading %d minibatches (batch_size=%d) of training samples.\" % (train_num, batch_size))\n",
        "\n",
        "# load testing dataset\n",
        "testloader_small = list(load_dataset('./data/test/', img_size, num_per_class=50, batch_size=batch_size))\n",
        "test_num = len(testloader_small)\n",
        "print(\"Finish loading %d minibatches (batch_size=%d) of testing samples.\" % (test_num, batch_size))"
      ]
    },
    {
      "cell_type": "code",
      "execution_count": 6,
      "id": "6add360c",
      "metadata": {
        "colab": {
          "base_uri": "https://localhost:8080/",
          "height": 286
        },
        "id": "6add360c",
        "outputId": "7f33f3f8-5fa8-47e9-d077-321ff3b00edc"
      },
      "outputs": [
        {
          "output_type": "stream",
          "name": "stdout",
          "text": [
            "Suburb\n"
          ]
        },
        {
          "output_type": "display_data",
          "data": {
            "text/plain": [
              "<Figure size 432x288 with 1 Axes>"
            ],
            "image/png": "[encoded data removed]"
          },
          "metadata": {
            "needs_background": "light"
          }
        }
      ],
      "source": [
        "# show some images\n",
        "def imshow(img):\n",
        "    img = img / 2 + 0.5     # unnormalize\n",
        "    npimg = img.numpy()\n",
        "    if len(npimg.shape) > 2:\n",
        "        npimg = np.transpose(img, [1, 2, 0])\n",
        "    plt.figure\n",
        "    plt.imshow(npimg, 'gray')\n",
        "    plt.show()\n",
        "img, label = trainloader_small[0][0][11][0], trainloader_small[0][1][11]\n",
        "label = int(np.array(label))\n",
        "print(class_names[label])\n",
        "imshow(img)"
      ]
    },
    {
      "cell_type": "markdown",
      "id": "d906be39",
      "metadata": {
        "id": "d906be39"
      },
      "source": [
        "## Problem 1: Fine Tuning a Pre-Trained Deep Network\n",
        "Our convolutional network to this point isn't \"deep\". Fortunately, the representations learned by deep convolutional networks is that they generalize surprisingly well to other recognition tasks. \n",
        "\n",
        "But how do we use an existing deep network for a new recognition task? Take for instance,  [AlexNet](http://papers.nips.cc/paper/4824-imagenet-classification-with-deep-convolutional-neural-networks) network has 1000 units in the final layer corresponding to 1000 ImageNet categories.\n",
        "\n",
        "\n",
        "**Hints**:\n",
        "- Many pre-trained models are available in PyTorch at [here](http://pytorch.org/docs/master/torchvision/models.html).\n",
        "- For fine-tuning pretrained network using PyTorch, please read this [tutorial](http://pytorch.org/tutorials/beginner/transfer_learning_tutorial.html)."
      ]
    },
    {
      "cell_type": "markdown",
      "id": "d3d758ff",
      "metadata": {
        "id": "d3d758ff"
      },
      "source": [
        "### Problem 1.1\n",
        "\n",
        "**Strategy A**: *Fine-tune* an existing network. In this scenario you take an existing network, replace the final layer (or more) with random weights, and train the entire network again with images and ground truth labels for your recognition task. You are effectively treating the pre-trained deep network as a better initialization than the random weights used when training from scratch. When you don't have enough training data to train a complex network from scratch (e.g. with the 16 classes) this is an attractive option. Fine-tuning can work far better than Strategy B of taking the activations directly from an pre-trained CNN. For example, in [this paper](http://www.cc.gatech.edu/~hays/papers/deep_geo.pdf) from CVPR 2015, there wasn't enough data to train a deep network from scratch, but fine tuning led to 4 times higher accuracy than using off-the-shelf networks directly.\n",
        "\n",
        "(35 points) You are required to implement Strategy A to fine-tune a pre-trained **AlexNet** for this scene classification task. You should be able to achieve accuracy of **0.85** approximately. The minimum accuracy required for this section is **0.75**.\n",
        "\n",
        "Please provide detailed descriptions of:<br>\n",
        "(1) which layers of AlexNet have been replaced<br>\n",
        "(2) the architecture of the new layers added including activation methods (same as problem 1)<br>\n",
        "(3) the final accuracy on test set <br>"
      ]
    },
    {
      "cell_type": "code",
      "execution_count": 7,
      "id": "67208818",
      "metadata": {
        "colab": {
          "base_uri": "https://localhost:8080/"
        },
        "id": "67208818",
        "outputId": "a1d95127-d6b8-4cbd-9b68-000ec282c58e"
      },
      "outputs": [
        {
          "output_type": "stream",
          "name": "stdout",
          "text": [
            "Loading images from class: 0\n"
          ]
        },
        {
          "output_type": "stream",
          "name": "stderr",
          "text": [
            "/usr/local/lib/python3.7/dist-packages/ipykernel_launcher.py:43: DeprecationWarning: `np.float` is a deprecated alias for the builtin `float`. To silence this warning, use `float` by itself. Doing this will not modify any behavior and is safe. If you specifically wanted the numpy scalar type, use `np.float64` here.\n",
            "Deprecated in NumPy 1.20; for more details and guidance: https://numpy.org/devdocs/release/1.20.0-notes.html#deprecations\n"
          ]
        },
        {
          "output_type": "stream",
          "name": "stdout",
          "text": [
            "Loading images from class: 1\n",
            "Loading images from class: 2\n",
            "Loading images from class: 3\n",
            "Loading images from class: 4\n",
            "Loading images from class: 5\n",
            "Loading images from class: 6\n",
            "Loading images from class: 7\n",
            "Loading images from class: 8\n",
            "Loading images from class: 9\n",
            "Loading images from class: 10\n",
            "Loading images from class: 11\n",
            "Loading images from class: 12\n",
            "Loading images from class: 13\n",
            "Loading images from class: 14\n",
            "Loading images from class: 15\n",
            "Finish loading 50 minibatches (batch_size=64) of training samples.\n",
            "Loading images from class: 0\n",
            "Loading images from class: 1\n",
            "Loading images from class: 2\n",
            "Loading images from class: 3\n",
            "Loading images from class: 4\n",
            "Loading images from class: 5\n",
            "Loading images from class: 6\n",
            "Loading images from class: 7\n",
            "Loading images from class: 8\n",
            "Loading images from class: 9\n",
            "Loading images from class: 10\n",
            "Loading images from class: 11\n",
            "Loading images from class: 12\n",
            "Loading images from class: 13\n",
            "Loading images from class: 14\n",
            "Loading images from class: 15\n",
            "Finish loading 6 minibatches (batch_size=64) of testing samples.\n"
          ]
        }
      ],
      "source": [
        "# reload data with a larger size\n",
        "img_size = (224, 224)\n",
        "batch_size = 64 # training sample number per batch \n",
        "\n",
        "# load training dataset\n",
        "trainloader_large = list(load_dataset('./data/train/', img_size, num_per_class=100, batch_size=batch_size, shuffle=True, \n",
        "                                      augment=True, is_color=True, zero_centered=True))\n",
        "train_num = len(trainloader_large)\n",
        "print(\"Finish loading %d minibatches (batch_size=%d) of training samples.\" % (train_num, batch_size))\n",
        "\n",
        "# load testing dataset\n",
        "testloader_large = list(load_dataset('./data/test/', img_size, num_per_class=50, batch_size=batch_size, is_color=True, zero_centered=True))\n",
        "test_num = len(testloader_large)\n",
        "print(\"Finish loading %d minibatches (batch_size=%d) of testing samples.\" % (test_num, batch_size))"
      ]
    },
    {
      "cell_type": "code",
      "source": [
        "#--------------------------------------------------\n",
        "#       Model Training Function\n",
        "#--------------------------------------------------\n",
        "import torch.optim as optim\n",
        "import time\n",
        "  \n",
        "def trainModel(net, trainloader, train_option, testloader=None):  \n",
        "  loss_func = nn.CrossEntropyLoss()\n",
        "  lr = train_option['lr']\n",
        "  epoch = train_option['epoch']\n",
        "  device = train_option['device'] if 'device' in train_option.keys() else 'cpu'\n",
        "  log_iter = train_option['log_iter'] if 'log_iter' in train_option.keys() else 20\n",
        "  eval_epoch = 1\n",
        "  \n",
        "  if 'optimizer' in train_option.keys():\n",
        "    optimizer = train_option['optimizer']\n",
        "  else:\n",
        "    optimizer = optim.Adam(net.parameters(), lr=lr)\n",
        "\n",
        "  start_time = time.time()\n",
        "  if device == 'gpu':\n",
        "    net = net.cuda()\n",
        "    \n",
        "  iters = 0\n",
        "  running_loss = 0.0\n",
        "  for ep in range(epoch):\n",
        "    net.train()        \n",
        "    for iter, (x, y) in enumerate(trainloader):\n",
        "      iters += 1\n",
        "      batch_x = Variable(x).float()\n",
        "      batch_y = Variable(y).long()\n",
        "      if device == 'gpu':\n",
        "        batch_x = batch_x.cuda()\n",
        "        batch_y = batch_y.cuda()\n",
        "\n",
        "      outputs = net(batch_x)\n",
        "      loss = loss_func(outputs, batch_y)\n",
        "      optimizer.zero_grad()\n",
        "      loss.backward()\n",
        "      optimizer.step()\n",
        "      running_loss += loss.item()\n",
        "      \n",
        "      time_lapse = time.strftime('%H:%M:%S', time.gmtime(time.time() - start_time))\n",
        "      if iter % log_iter == 0:\n",
        "        print('Epoch:{:2d} | Iter:{:5d} | Time: {} | Train Loss: {:.4f} | Average Loss: {:.4f} '.format(ep+1, iter, time_lapse, loss.item(), running_loss/iters))\n",
        "   \n",
        "    if testloader is not None and ep % eval_epoch == 0:\n",
        "      evalModel(net, testloader)"
      ],
      "metadata": {
        "id": "E7V1fqMmBN49"
      },
      "id": "E7V1fqMmBN49",
      "execution_count": 8,
      "outputs": []
    },
    {
      "cell_type": "code",
      "source": [
        "#--------------------------------------------------\n",
        "#       Model Evaluating Function\n",
        "#--------------------------------------------------\n",
        "import time\n",
        "  \n",
        "def evalModel(net, testloader): \n",
        "  acc = 0.0\n",
        "  count = 0\n",
        "  start_time = time.time()\n",
        "  device = 'gpu' if next(net.parameters()).is_cuda else 'cpu'\n",
        "  net.eval()\n",
        "  \n",
        "  for iter, (x, y) in enumerate(testloader):\n",
        "        count += x.shape[0]\n",
        "        batch_x = Variable(x).float()\n",
        "        batch_y = Variable(y).long()\n",
        "        if device == 'gpu':\n",
        "          batch_x = batch_x.cuda()\n",
        "          batch_y = batch_y.cuda()\n",
        "        outputs = net(batch_x)\n",
        "        acc += torch.sum(outputs.max(1)[1]==batch_y)\n",
        "        \n",
        "  time_lapse = time.strftime('%H:%M:%S', time.gmtime(time.time() - start_time))        \n",
        "  print('Accuracy: {:5f} | Time: {}'.format(acc/count,time_lapse))\n",
        "  "
      ],
      "metadata": {
        "id": "lUH9rfs8Cere"
      },
      "id": "lUH9rfs8Cere",
      "execution_count": 9,
      "outputs": []
    },
    {
      "cell_type": "code",
      "execution_count": 10,
      "id": "e1ba6e02",
      "metadata": {
        "colab": {
          "base_uri": "https://localhost:8080/",
          "height": 1000,
          "referenced_widgets": [
            "653d87971ab444239b281874f6871c1d",
            "88b845fd39bd405e93f789450b5068a9",
            "9d22c2431af34298b0c961cb5d469ab5",
            "fa3a1716cc584370b18a0aee93bdda05",
            "bb6a86a53b504e039c7b64de40855356",
            "a9cd73ac39b343f589b80f363d9ee783",
            "6cda039a0b684586bc1a1ca5f7ccbb48",
            "0bcf80488d9246dab96758332c535181",
            "3de65f140f7a43cb87755deef5c1201b",
            "c23822fdd5474f0caf10fdafb976e017",
            "86d172e400e647f6adac7ab918c85691"
          ]
        },
        "id": "e1ba6e02",
        "outputId": "d2c0ab86-f248-4034-eced-e7a3fc4f1c85"
      },
      "outputs": [
        {
          "output_type": "stream",
          "name": "stderr",
          "text": [
            "/usr/local/lib/python3.7/dist-packages/torchvision/models/_utils.py:223: UserWarning: Arguments other than a weight enum or `None` for 'weights' are deprecated since 0.13 and will be removed in 0.15. The current behavior is equivalent to passing `weights=AlexNet_Weights.IMAGENET1K_V1`. You can also use `weights=AlexNet_Weights.DEFAULT` to get the most up-to-date weights.\n",
            "  warnings.warn(msg)\n",
            "Downloading: \"https://download.pytorch.org/models/alexnet-owt-7be5be79.pth\" to /root/.cache/torch/hub/checkpoints/alexnet-owt-7be5be79.pth\n"
          ]
        },
        {
          "output_type": "display_data",
          "data": {
            "text/plain": [
              "  0%|          | 0.00/233M [00:00<?, ?B/s]"
            ],
            "application/vnd.jupyter.widget-view+json": {
              "version_major": 2,
              "version_minor": 0,
              "model_id": "653d87971ab444239b281874f6871c1d"
            }
          },
          "metadata": {}
        },
        {
          "output_type": "stream",
          "name": "stdout",
          "text": [
            "Epoch: 1 | Iter:    0 | Time: 00:00:12 | Train Loss: 12.5043 | Average Loss: 12.5043 \n",
            "Epoch: 1 | Iter:   20 | Time: 00:00:15 | Train Loss: 1.7577 | Average Loss: 3.8973 \n",
            "Epoch: 1 | Iter:   40 | Time: 00:00:17 | Train Loss: 0.9975 | Average Loss: 2.6170 \n",
            "Accuracy: 0.708333 | Time: 00:00:00\n",
            "Epoch: 2 | Iter:    0 | Time: 00:00:18 | Train Loss: 1.2664 | Average Loss: 2.2941 \n",
            "Epoch: 2 | Iter:   20 | Time: 00:00:20 | Train Loss: 0.6702 | Average Loss: 1.8511 \n",
            "Epoch: 2 | Iter:   40 | Time: 00:00:23 | Train Loss: 0.4743 | Average Loss: 1.5651 \n",
            "Accuracy: 0.757812 | Time: 00:00:00\n",
            "Epoch: 3 | Iter:    0 | Time: 00:00:24 | Train Loss: 0.6181 | Average Loss: 1.4618 \n",
            "Epoch: 3 | Iter:   20 | Time: 00:00:26 | Train Loss: 0.3582 | Average Loss: 1.2825 \n",
            "Epoch: 3 | Iter:   40 | Time: 00:00:28 | Train Loss: 0.3979 | Average Loss: 1.1490 \n",
            "Accuracy: 0.838542 | Time: 00:00:00\n",
            "Epoch: 4 | Iter:    0 | Time: 00:00:29 | Train Loss: 0.3073 | Average Loss: 1.0941 \n",
            "Epoch: 4 | Iter:   20 | Time: 00:00:32 | Train Loss: 0.1897 | Average Loss: 0.9918 \n",
            "Epoch: 4 | Iter:   40 | Time: 00:00:34 | Train Loss: 0.2662 | Average Loss: 0.9112 \n",
            "Accuracy: 0.809896 | Time: 00:00:00\n",
            "Epoch: 5 | Iter:    0 | Time: 00:00:35 | Train Loss: 0.2465 | Average Loss: 0.8756 \n",
            "Epoch: 5 | Iter:   20 | Time: 00:00:37 | Train Loss: 0.0473 | Average Loss: 0.8093 \n",
            "Epoch: 5 | Iter:   40 | Time: 00:00:39 | Train Loss: 0.2234 | Average Loss: 0.7537 \n",
            "Accuracy: 0.776042 | Time: 00:00:00\n",
            "Epoch: 6 | Iter:    0 | Time: 00:00:41 | Train Loss: 0.1200 | Average Loss: 0.7299 \n",
            "Epoch: 6 | Iter:   20 | Time: 00:00:43 | Train Loss: 0.0658 | Average Loss: 0.6855 \n",
            "Epoch: 6 | Iter:   40 | Time: 00:00:45 | Train Loss: 0.1450 | Average Loss: 0.6464 \n",
            "Accuracy: 0.768229 | Time: 00:00:00\n",
            "Epoch: 7 | Iter:    0 | Time: 00:00:46 | Train Loss: 0.2648 | Average Loss: 0.6290 \n",
            "Epoch: 7 | Iter:   20 | Time: 00:00:48 | Train Loss: 0.1512 | Average Loss: 0.5974 \n",
            "Epoch: 7 | Iter:   40 | Time: 00:00:51 | Train Loss: 0.0639 | Average Loss: 0.5674 \n",
            "Accuracy: 0.789062 | Time: 00:00:00\n",
            "Epoch: 8 | Iter:    0 | Time: 00:00:52 | Train Loss: 0.1147 | Average Loss: 0.5540 \n",
            "Epoch: 8 | Iter:   20 | Time: 00:00:54 | Train Loss: 0.0816 | Average Loss: 0.5279 \n",
            "Epoch: 8 | Iter:   40 | Time: 00:00:56 | Train Loss: 0.0056 | Average Loss: 0.5038 \n",
            "Accuracy: 0.817708 | Time: 00:00:00\n",
            "Epoch: 9 | Iter:    0 | Time: 00:00:57 | Train Loss: 0.0113 | Average Loss: 0.4921 \n",
            "Epoch: 9 | Iter:   20 | Time: 00:01:00 | Train Loss: 0.0248 | Average Loss: 0.4705 \n",
            "Epoch: 9 | Iter:   40 | Time: 00:01:02 | Train Loss: 0.0511 | Average Loss: 0.4514 \n",
            "Accuracy: 0.835938 | Time: 00:00:00\n",
            "Epoch:10 | Iter:    0 | Time: 00:01:03 | Train Loss: 0.0106 | Average Loss: 0.4423 \n",
            "Epoch:10 | Iter:   20 | Time: 00:01:05 | Train Loss: 0.0272 | Average Loss: 0.4248 \n",
            "Epoch:10 | Iter:   40 | Time: 00:01:08 | Train Loss: 0.0666 | Average Loss: 0.4101 \n",
            "Accuracy: 0.830729 | Time: 00:00:00\n",
            "Epoch:11 | Iter:    0 | Time: 00:01:09 | Train Loss: 0.0592 | Average Loss: 0.4031 \n",
            "Epoch:11 | Iter:   20 | Time: 00:01:11 | Train Loss: 0.0275 | Average Loss: 0.3893 \n",
            "Epoch:11 | Iter:   40 | Time: 00:01:13 | Train Loss: 0.0224 | Average Loss: 0.3758 \n",
            "Accuracy: 0.841146 | Time: 00:00:00\n",
            "Epoch:12 | Iter:    0 | Time: 00:01:15 | Train Loss: 0.0086 | Average Loss: 0.3696 \n",
            "Epoch:12 | Iter:   20 | Time: 00:01:17 | Train Loss: 0.0043 | Average Loss: 0.3572 \n",
            "Epoch:12 | Iter:   40 | Time: 00:01:19 | Train Loss: 0.0041 | Average Loss: 0.3456 \n",
            "Accuracy: 0.820312 | Time: 00:00:00\n",
            "Epoch:13 | Iter:    0 | Time: 00:01:20 | Train Loss: 0.0124 | Average Loss: 0.3402 \n",
            "Epoch:13 | Iter:   20 | Time: 00:01:22 | Train Loss: 0.0187 | Average Loss: 0.3300 \n",
            "Epoch:13 | Iter:   40 | Time: 00:01:25 | Train Loss: 0.0217 | Average Loss: 0.3204 \n",
            "Accuracy: 0.804688 | Time: 00:00:00\n",
            "Epoch:14 | Iter:    0 | Time: 00:01:26 | Train Loss: 0.0072 | Average Loss: 0.3159 \n",
            "Epoch:14 | Iter:   20 | Time: 00:01:28 | Train Loss: 0.0015 | Average Loss: 0.3071 \n",
            "Epoch:14 | Iter:   40 | Time: 00:01:30 | Train Loss: 0.0334 | Average Loss: 0.2988 \n",
            "Accuracy: 0.828125 | Time: 00:00:00\n",
            "Epoch:15 | Iter:    0 | Time: 00:01:32 | Train Loss: 0.0149 | Average Loss: 0.2950 \n",
            "Epoch:15 | Iter:   20 | Time: 00:01:34 | Train Loss: 0.0034 | Average Loss: 0.2873 \n",
            "Epoch:15 | Iter:   40 | Time: 00:01:36 | Train Loss: 0.0048 | Average Loss: 0.2804 \n",
            "Accuracy: 0.809896 | Time: 00:00:00\n",
            "Epoch:16 | Iter:    0 | Time: 00:01:37 | Train Loss: 0.0163 | Average Loss: 0.2771 \n",
            "Epoch:16 | Iter:   20 | Time: 00:01:40 | Train Loss: 0.0062 | Average Loss: 0.2703 \n",
            "Epoch:16 | Iter:   40 | Time: 00:01:42 | Train Loss: 0.0082 | Average Loss: 0.2643 \n",
            "Accuracy: 0.802083 | Time: 00:00:00\n",
            "Epoch:17 | Iter:    0 | Time: 00:01:43 | Train Loss: 0.0160 | Average Loss: 0.2613 \n",
            "Epoch:17 | Iter:   20 | Time: 00:01:45 | Train Loss: 0.0652 | Average Loss: 0.2567 \n",
            "Epoch:17 | Iter:   40 | Time: 00:01:48 | Train Loss: 0.0441 | Average Loss: 0.2513 \n",
            "Accuracy: 0.835938 | Time: 00:00:00\n",
            "Epoch:18 | Iter:    0 | Time: 00:01:49 | Train Loss: 0.0052 | Average Loss: 0.2485 \n",
            "Epoch:18 | Iter:   20 | Time: 00:01:51 | Train Loss: 0.0013 | Average Loss: 0.2432 \n",
            "Epoch:18 | Iter:   40 | Time: 00:01:53 | Train Loss: 0.0887 | Average Loss: 0.2386 \n",
            "Accuracy: 0.789062 | Time: 00:00:00\n",
            "Epoch:19 | Iter:    0 | Time: 00:01:55 | Train Loss: 0.0568 | Average Loss: 0.2366 \n",
            "Epoch:19 | Iter:   20 | Time: 00:01:57 | Train Loss: 0.0585 | Average Loss: 0.2319 \n",
            "Epoch:19 | Iter:   40 | Time: 00:01:59 | Train Loss: 0.0208 | Average Loss: 0.2277 \n",
            "Accuracy: 0.799479 | Time: 00:00:00\n",
            "Epoch:20 | Iter:    0 | Time: 00:02:00 | Train Loss: 0.0340 | Average Loss: 0.2258 \n",
            "Epoch:20 | Iter:   20 | Time: 00:02:03 | Train Loss: 0.0269 | Average Loss: 0.2215 \n",
            "Epoch:20 | Iter:   40 | Time: 00:02:05 | Train Loss: 0.0490 | Average Loss: 0.2173 \n",
            "Accuracy: 0.833333 | Time: 00:00:00\n"
          ]
        }
      ],
      "source": [
        "#--------------------------------------------------\n",
        "#       Fine-Tune Pretrained Network\n",
        "#--------------------------------------------------\n",
        "\n",
        "alexnet = torchvision.models.alexnet(weights=True)\n",
        "train_option = {}\n",
        "train_option['lr'] = 0.0001\n",
        "train_option['epoch'] = 20\n",
        "train_option['device'] = 'gpu'\n",
        "alexnet.features[1] = nn.LeakyReLU()\n",
        "alexnet.classifier[0] = nn.Dropout(0.6)\n",
        "\n",
        "# print(alexnet)\n",
        "trainModel(alexnet, trainloader_large, train_option, testloader_large)\n",
        "\n",
        "\n"
      ]
    },
    {
      "cell_type": "code",
      "source": [
        "evalModel(alexnet, testloader_large)\n"
      ],
      "metadata": {
        "colab": {
          "base_uri": "https://localhost:8080/"
        },
        "id": "rKxGPsHiJHHb",
        "outputId": "551d5f19-01dd-47e8-b9e5-669b7061bf93"
      },
      "id": "rKxGPsHiJHHb",
      "execution_count": 11,
      "outputs": [
        {
          "output_type": "stream",
          "name": "stdout",
          "text": [
            "Accuracy: 0.833333 | Time: 00:00:00\n"
          ]
        }
      ]
    },
    {
      "cell_type": "markdown",
      "id": "874db589",
      "metadata": {
        "id": "874db589"
      },
      "source": [
        "**Answer**:\n",
        "\n",
        "(1) which layers of AlexNet have been replaced\n",
        "\n",
        "second layer of alexnet was replaced with leakyReLU instead of normal ReLU() Increased the dropout to 0.6 in the fully connected layer.\n",
        "\n",
        "alexnet.features[1] = nn.LeakyReLU()\n",
        "\n",
        "alexnet.classifier[0] = nn.Dropout(0.6)\n",
        "\n",
        "\n",
        "(2) the architecture of the new layers added including activation methods (same as problem 1)\n",
        "\n",
        "Data augmentation: True\n",
        "\n",
        "Data normalization: True\n",
        "\n",
        "**Final Alexnet architecture**\n",
        "\n",
        "```\n",
        "AlexNet(\n",
        "  (features): Sequential(\n",
        "    (0): Conv2d(3, 64, kernel_size=(11, 11), stride=(4, 4), padding=(2, 2))\n",
        "    (1): LeakyReLU(negative_slope=0.01)\n",
        "    (2): MaxPool2d(kernel_size=3, stride=2, padding=0, dilation=1, ceil_mode=False)\n",
        "    (3): Conv2d(64, 192, kernel_size=(5, 5), stride=(1, 1), padding=(2, 2))\n",
        "    (4): ReLU(inplace=True)\n",
        "    (5): MaxPool2d(kernel_size=3, stride=2, padding=0, dilation=1, ceil_mode=False)\n",
        "    (6): Conv2d(192, 384, kernel_size=(3, 3), stride=(1, 1), padding=(1, 1))\n",
        "    (7): ReLU(inplace=True)\n",
        "    (8): Conv2d(384, 256, kernel_size=(3, 3), stride=(1, 1), padding=(1, 1))\n",
        "    (9): ReLU(inplace=True)\n",
        "    (10): Conv2d(256, 256, kernel_size=(3, 3), stride=(1, 1), padding=(1, 1))\n",
        "    (11): ReLU(inplace=True)\n",
        "    (12): MaxPool2d(kernel_size=3, stride=2, padding=0, dilation=1, ceil_mode=False)\n",
        "  )\n",
        "  (avgpool): AdaptiveAvgPool2d(output_size=(6, 6))\n",
        "  (classifier): Sequential(\n",
        "    (0): Dropout(p=0.6, inplace=False)\n",
        "    (1): Linear(in_features=9216, out_features=4096, bias=True)\n",
        "    (2): ReLU(inplace=True)\n",
        "    (3): Dropout(p=0.5, inplace=False)\n",
        "    (4): Linear(in_features=4096, out_features=4096, bias=True)\n",
        "    (5): ReLU(inplace=True)\n",
        "    (6): Linear(in_features=4096, out_features=1000, bias=True)\n",
        "  )\n",
        "```\n",
        "\n",
        "(3) the final accuracy on test set\n",
        "\n",
        "Accuracy on test set: 83.3333 \n",
        "\n"
      ]
    },
    {
      "cell_type": "markdown",
      "id": "3735abd3",
      "metadata": {
        "id": "3735abd3"
      },
      "source": [
        "### Problem 1.2\n",
        "**Strategy B**: One could use those 1000 activations as a feature in place of a hand crafted feature such as a bag-of-features representation. You would train a classifier (typically a linear SVM) in that 1000 dimensional feature space. However, those activations are clearly very object specific and may not generalize well to new recognition tasks. It is generally better to use the activations in slightly earlier layers of the network, e.g. the 4096 activations in the last 2nd fully-connected layer. You can often get away with sub-sampling those 4096 activations considerably, e.g. taking only the first 1000 activations.\n",
        "\n",
        "(35 points) Implement Strategy B where you use the activations of the pre-trained **AlexNet** as features to train **one-vs-all SVMs** for your scene classification task. Report the final accuracy on test set. You should be able to achieve accuracy of **0.80** approximately. The minimum accuracy required for this section is **0.70**."
      ]
    },
    {
      "cell_type": "code",
      "execution_count": 12,
      "id": "2086fbf1",
      "metadata": {
        "id": "2086fbf1"
      },
      "outputs": [],
      "source": [
        "#--------------------------------------------------\n",
        "#       Get Features from AlexNet\n",
        "#--------------------------------------------------\n",
        "\n",
        "def extract_feactures(net, trainloader):\n",
        "  device = train_option['device'] if 'device' in train_option.keys() else 'cpu'\n",
        "  start_time = time.time()\n",
        "  if device == 'gpu':\n",
        "    net = net.cuda()\n",
        "\n",
        "  iters = 0\n",
        "  features = []\n",
        "  labels = []\n",
        "  for itr, (x, y) in enumerate(trainloader):\n",
        "    iters += 1\n",
        "    batch_x = Variable(x).float()\n",
        "    batch_y = Variable(y).long()\n",
        "    if device == 'gpu':\n",
        "      batch_x = batch_x.cuda()\n",
        "      batch_y = batch_y.cuda()\n",
        "    outputs = net(batch_x)\n",
        "    for ind, feature in enumerate(outputs):\n",
        "      features.append(feature.cpu().detach().numpy().reshape(-1))\n",
        "      labels.append(y[ind].cpu().detach().numpy())\n",
        "\n",
        "  return np.array(features), np.array(labels)\n",
        "\n",
        "\n",
        "train_feat, train_label = extract_feactures(alexnet,trainloader_large)\n",
        "test_feat, test_label = extract_feactures(alexnet,testloader_large)\n"
      ]
    },
    {
      "cell_type": "code",
      "execution_count": 15,
      "id": "4efbcc47",
      "metadata": {
        "colab": {
          "base_uri": "https://localhost:8080/"
        },
        "id": "4efbcc47",
        "outputId": "5cc9da39-2e10-4872-c6d3-ed8a422851ff"
      },
      "outputs": [
        {
          "output_type": "stream",
          "name": "stdout",
          "text": [
            "Accuracy for SVM:  82.03125\n"
          ]
        }
      ],
      "source": [
        "#--------------------------------------------------\n",
        "#       Train and Evaluate SVM\n",
        "#--------------------------------------------------\n",
        "from sklearn import svm, metrics\n",
        "\n",
        "clf = svm.SVC(C=1, kernel='linear', random_state=70)\n",
        "clf.fit(train_feat, train_label)\n",
        "label_pred = clf.predict(test_feat)\n",
        "print('Accuracy for SVM: ',metrics.accuracy_score(test_label, label_pred)*100)\n",
        "\n"
      ]
    },
    {
      "cell_type": "markdown",
      "id": "74f5cd7b",
      "metadata": {
        "id": "74f5cd7b"
      },
      "source": [
        "**Answer**:\n",
        "\n",
        "Accuracy on test set:  82.03125"
      ]
    },
    {
      "cell_type": "markdown",
      "id": "dd257204",
      "metadata": {
        "id": "dd257204"
      },
      "source": [
        "### Problem 1.3 (Bonus)\n",
        "\n",
        "(Bonus: 10 points) Bonus will be given to those who fine-tune the [ResNet network](https://pytorch.org/docs/stable/_modules/torchvision/models/resnet.html) [(paper)](https://arxiv.org/abs/1512.03385) and compare performance with AlexNet. Explain why ResNet performed better or worse. You are **required** to use **resnet50** model. You should be able to achieve accuracy of **0.99** approximately. The minimum accuracy required for this section is **0.85**."
      ]
    },
    {
      "cell_type": "code",
      "execution_count": 37,
      "id": "4b906bbf",
      "metadata": {
        "colab": {
          "base_uri": "https://localhost:8080/",
          "height": 1000,
          "referenced_widgets": [
            "44468c591f3846de8197d8da335f00a2",
            "1fa0e80b5c6747ee9ec68659c294fb18",
            "b48e241258854e1fa05493842615a807",
            "7f2377dcbe0f42a288e3ac254a543c48",
            "a9d4e744dac54bf9a5775d8cd7e5b8cc",
            "708646403ebe49f7b7118cf5d77002aa",
            "2ececfeda4d3430c9783be2250758d79",
            "07aeb4d6b4df49aa9d754232894c3b6a",
            "d5480c33affa4537a143604e08b8be6e",
            "77d90e7af1b74231b837f77c23f2c761",
            "e86e29de808d4882a09c3e536184e0cd"
          ]
        },
        "id": "4b906bbf",
        "outputId": "31e82f38-0104-42f0-c225-77f1cbbe42a9"
      },
      "outputs": [
        {
          "output_type": "stream",
          "name": "stderr",
          "text": [
            "/usr/local/lib/python3.7/dist-packages/torchvision/models/_utils.py:223: UserWarning: Arguments other than a weight enum or `None` for 'weights' are deprecated since 0.13 and will be removed in 0.15. The current behavior is equivalent to passing `weights=ResNet50_Weights.IMAGENET1K_V1`. You can also use `weights=ResNet50_Weights.DEFAULT` to get the most up-to-date weights.\n",
            "  warnings.warn(msg)\n",
            "Downloading: \"https://download.pytorch.org/models/resnet50-0676ba61.pth\" to /root/.cache/torch/hub/checkpoints/resnet50-0676ba61.pth\n"
          ]
        },
        {
          "output_type": "display_data",
          "data": {
            "text/plain": [
              "  0%|          | 0.00/97.8M [00:00<?, ?B/s]"
            ],
            "application/vnd.jupyter.widget-view+json": {
              "version_major": 2,
              "version_minor": 0,
              "model_id": "44468c591f3846de8197d8da335f00a2"
            }
          },
          "metadata": {}
        },
        {
          "output_type": "stream",
          "name": "stdout",
          "text": [
            "Epoch: 1 | Iter:    0 | Time: 00:00:01 | Train Loss: 9.2720 | Average Loss: 9.2720 \n",
            "Epoch: 1 | Iter:   20 | Time: 00:00:14 | Train Loss: 0.6016 | Average Loss: 3.0649 \n",
            "Epoch: 1 | Iter:   40 | Time: 00:00:28 | Train Loss: 0.5800 | Average Loss: 1.8659 \n",
            "Accuracy: 0.817708 | Time: 00:00:00\n",
            "Epoch: 2 | Iter:    0 | Time: 00:00:37 | Train Loss: 0.1703 | Average Loss: 1.5589 \n",
            "Epoch: 2 | Iter:   20 | Time: 00:00:51 | Train Loss: 0.0383 | Average Loss: 1.1487 \n",
            "Epoch: 2 | Iter:   40 | Time: 00:01:05 | Train Loss: 0.0204 | Average Loss: 0.9054 \n",
            "Accuracy: 0.875000 | Time: 00:00:01\n",
            "Epoch: 3 | Iter:    0 | Time: 00:01:13 | Train Loss: 0.0046 | Average Loss: 0.8183 \n",
            "Epoch: 3 | Iter:   20 | Time: 00:01:27 | Train Loss: 0.0051 | Average Loss: 0.6844 \n",
            "Epoch: 3 | Iter:   40 | Time: 00:01:41 | Train Loss: 0.0047 | Average Loss: 0.5881 \n",
            "Accuracy: 0.877604 | Time: 00:00:01\n",
            "Epoch: 4 | Iter:    0 | Time: 00:01:50 | Train Loss: 0.0016 | Average Loss: 0.5494 \n",
            "Epoch: 4 | Iter:   20 | Time: 00:02:04 | Train Loss: 0.0022 | Average Loss: 0.4855 \n",
            "Epoch: 4 | Iter:   40 | Time: 00:02:18 | Train Loss: 0.0020 | Average Loss: 0.4349 \n",
            "Accuracy: 0.885417 | Time: 00:00:01\n",
            "Epoch: 5 | Iter:    0 | Time: 00:02:27 | Train Loss: 0.0012 | Average Loss: 0.4133 \n",
            "Epoch: 5 | Iter:   20 | Time: 00:02:41 | Train Loss: 0.0015 | Average Loss: 0.3761 \n",
            "Epoch: 5 | Iter:   40 | Time: 00:02:55 | Train Loss: 0.0015 | Average Loss: 0.3450 \n",
            "Accuracy: 0.885417 | Time: 00:00:01\n",
            "Epoch: 6 | Iter:    0 | Time: 00:03:04 | Train Loss: 0.0009 | Average Loss: 0.3313 \n",
            "Epoch: 6 | Iter:   20 | Time: 00:03:18 | Train Loss: 0.0011 | Average Loss: 0.3069 \n",
            "Epoch: 6 | Iter:   40 | Time: 00:03:33 | Train Loss: 0.0012 | Average Loss: 0.2859 \n",
            "Accuracy: 0.885417 | Time: 00:00:01\n",
            "Epoch: 7 | Iter:    0 | Time: 00:03:41 | Train Loss: 0.0008 | Average Loss: 0.2765 \n",
            "Epoch: 7 | Iter:   20 | Time: 00:03:56 | Train Loss: 0.0009 | Average Loss: 0.2593 \n",
            "Epoch: 7 | Iter:   40 | Time: 00:04:10 | Train Loss: 0.0009 | Average Loss: 0.2441 \n",
            "Accuracy: 0.885417 | Time: 00:00:01\n",
            "Epoch: 8 | Iter:    0 | Time: 00:04:19 | Train Loss: 0.0006 | Average Loss: 0.2372 \n",
            "Epoch: 8 | Iter:   20 | Time: 00:04:33 | Train Loss: 0.0007 | Average Loss: 0.2245 \n",
            "Epoch: 8 | Iter:   40 | Time: 00:04:48 | Train Loss: 0.0008 | Average Loss: 0.2130 \n",
            "Accuracy: 0.888021 | Time: 00:00:01\n",
            "Epoch: 9 | Iter:    0 | Time: 00:04:56 | Train Loss: 0.0005 | Average Loss: 0.2077 \n",
            "Epoch: 9 | Iter:   20 | Time: 00:05:11 | Train Loss: 0.0006 | Average Loss: 0.1979 \n",
            "Epoch: 9 | Iter:   40 | Time: 00:05:26 | Train Loss: 0.0007 | Average Loss: 0.1889 \n",
            "Accuracy: 0.888021 | Time: 00:00:01\n",
            "Epoch:10 | Iter:    0 | Time: 00:05:34 | Train Loss: 0.0005 | Average Loss: 0.1848 \n",
            "Epoch:10 | Iter:   20 | Time: 00:05:49 | Train Loss: 0.0005 | Average Loss: 0.1769 \n",
            "Epoch:10 | Iter:   40 | Time: 00:06:03 | Train Loss: 0.0006 | Average Loss: 0.1698 \n",
            "Accuracy: 0.888021 | Time: 00:00:01\n",
            "Epoch:11 | Iter:    0 | Time: 00:06:12 | Train Loss: 0.0004 | Average Loss: 0.1664 \n",
            "Epoch:11 | Iter:   20 | Time: 00:06:26 | Train Loss: 0.0004 | Average Loss: 0.1600 \n",
            "Epoch:11 | Iter:   40 | Time: 00:06:41 | Train Loss: 0.0005 | Average Loss: 0.1541 \n",
            "Accuracy: 0.888021 | Time: 00:00:01\n",
            "Epoch:12 | Iter:    0 | Time: 00:06:50 | Train Loss: 0.0004 | Average Loss: 0.1513 \n",
            "Epoch:12 | Iter:   20 | Time: 00:07:04 | Train Loss: 0.0004 | Average Loss: 0.1460 \n",
            "Epoch:12 | Iter:   40 | Time: 00:07:19 | Train Loss: 0.0004 | Average Loss: 0.1411 \n",
            "Accuracy: 0.888021 | Time: 00:00:01\n",
            "Epoch:13 | Iter:    0 | Time: 00:07:27 | Train Loss: 0.0003 | Average Loss: 0.1388 \n",
            "Epoch:13 | Iter:   20 | Time: 00:07:42 | Train Loss: 0.0003 | Average Loss: 0.1343 \n",
            "Epoch:13 | Iter:   40 | Time: 00:07:57 | Train Loss: 0.0004 | Average Loss: 0.1301 \n",
            "Accuracy: 0.888021 | Time: 00:00:01\n",
            "Epoch:14 | Iter:    0 | Time: 00:08:05 | Train Loss: 0.0003 | Average Loss: 0.1281 \n",
            "Epoch:14 | Iter:   20 | Time: 00:08:20 | Train Loss: 0.0003 | Average Loss: 0.1243 \n",
            "Epoch:14 | Iter:   40 | Time: 00:08:34 | Train Loss: 0.0003 | Average Loss: 0.1207 \n",
            "Accuracy: 0.888021 | Time: 00:00:01\n",
            "Epoch:15 | Iter:    0 | Time: 00:08:43 | Train Loss: 0.0003 | Average Loss: 0.1190 \n",
            "Epoch:15 | Iter:   20 | Time: 00:08:57 | Train Loss: 0.0003 | Average Loss: 0.1157 \n",
            "Epoch:15 | Iter:   40 | Time: 00:09:12 | Train Loss: 0.0003 | Average Loss: 0.1126 \n",
            "Accuracy: 0.885417 | Time: 00:00:01\n",
            "Epoch:16 | Iter:    0 | Time: 00:09:21 | Train Loss: 0.0002 | Average Loss: 0.1111 \n",
            "Epoch:16 | Iter:   20 | Time: 00:09:35 | Train Loss: 0.0002 | Average Loss: 0.1082 \n",
            "Epoch:16 | Iter:   40 | Time: 00:09:50 | Train Loss: 0.0003 | Average Loss: 0.1055 \n",
            "Accuracy: 0.885417 | Time: 00:00:01\n",
            "Epoch:17 | Iter:    0 | Time: 00:09:59 | Train Loss: 0.0002 | Average Loss: 0.1042 \n",
            "Epoch:17 | Iter:   20 | Time: 00:10:14 | Train Loss: 0.0002 | Average Loss: 0.1017 \n",
            "Epoch:17 | Iter:   40 | Time: 00:10:28 | Train Loss: 0.0003 | Average Loss: 0.0993 \n",
            "Accuracy: 0.885417 | Time: 00:00:01\n",
            "Epoch:18 | Iter:    0 | Time: 00:10:37 | Train Loss: 0.0002 | Average Loss: 0.0981 \n",
            "Epoch:18 | Iter:   20 | Time: 00:10:52 | Train Loss: 0.0002 | Average Loss: 0.0958 \n",
            "Epoch:18 | Iter:   40 | Time: 00:11:06 | Train Loss: 0.0002 | Average Loss: 0.0937 \n",
            "Accuracy: 0.885417 | Time: 00:00:01\n",
            "Epoch:19 | Iter:    0 | Time: 00:11:15 | Train Loss: 0.0002 | Average Loss: 0.0927 \n",
            "Epoch:19 | Iter:   20 | Time: 00:11:30 | Train Loss: 0.0002 | Average Loss: 0.0907 \n",
            "Epoch:19 | Iter:   40 | Time: 00:11:45 | Train Loss: 0.0002 | Average Loss: 0.0887 \n",
            "Accuracy: 0.885417 | Time: 00:00:01\n",
            "Epoch:20 | Iter:    0 | Time: 00:11:53 | Train Loss: 0.0002 | Average Loss: 0.0878 \n",
            "Epoch:20 | Iter:   20 | Time: 00:12:08 | Train Loss: 0.0002 | Average Loss: 0.0860 \n",
            "Epoch:20 | Iter:   40 | Time: 00:12:23 | Train Loss: 0.0002 | Average Loss: 0.0843 \n",
            "Accuracy: 0.885417 | Time: 00:00:01\n"
          ]
        }
      ],
      "source": [
        "#--------------------------------------------------\n",
        "#       Fine-Tune Pretrained Network\n",
        "#--------------------------------------------------\n",
        "\n",
        "resnet50 = torchvision.models.resnet50(weights=True)\n",
        "train_option = {}\n",
        "train_option['lr'] = 0.0001\n",
        "train_option['epoch'] = 20\n",
        "train_option['device'] = 'gpu'\n",
        "# resnet50.features[1] = nn.LeakyReLU()\n",
        "# resnet50.classifier[0] = nn.Dropout(0.6)\n",
        "# resnet50.classifier[6] = nn.Linear(4096, 16)\n",
        "trainModel(resnet50, trainloader_large, train_option, testloader_large)\n"
      ]
    },
    {
      "cell_type": "markdown",
      "id": "cdf6c77f",
      "metadata": {
        "id": "cdf6c77f"
      },
      "source": [
        "**Answer**:\n",
        "\n",
        "Accuracy on test set: 88.5417\n"
      ]
    },
    {
      "cell_type": "markdown",
      "id": "090600db",
      "metadata": {
        "id": "090600db"
      },
      "source": [
        "## Submission guidelines\n",
        "---\n",
        "Extract the downloaded .zip file to a folder of your preference. The input and output paths are predefined and **DO NOT** change them, (we assume that 'Surname_Givenname_assignment3_part1' is your working directory, and all the paths are relative to this directory).  The image read and write functions are already written for you. All you need to do is to fill in the blanks as indicated to generate proper outputs. **DO NOT** zip and upload the dataset on canvas due to size limit.\n",
        "\n",
        "When submitting your .zip file through canvas, please\n",
        "-- name your .zip file as **Surname_Givenname_assignment3_part1.zip**.\n",
        "\n",
        "This zip file should include:\n",
        "```\n",
        "Surname_Givenname_UNCCID_assignment3_part1  \n",
        "        |---Surname_Givenname_UNCCID_assignment3_part1.ipynb\n",
        "        |---Surname_Givenname_UNCCID_assignment3_part1.pdf\n",
        "```\n",
        "\n",
        "For instance, student Yann Lecun should submit a zip file named \"Lecun_Yann_111134567_assignment2_part1.zip\" for assignment2_part1 in this structure:\n",
        "```\n",
        "Lecun_Yann_111134567_assignment3_part1\n",
        "        |---Lecun_Yann_111134567_assignment3_part1.ipynb\n",
        "        |---Lecun_Yann_111134567_assignment3_part1.pdf\n",
        "```\n",
        "\n",
        "Then right click this folder, click ***Get shareable link***, in the People textfield, enter TA's emails: ***psingire@uncc.edu*** and ***kchiguru@uncc.edu***. Make sure that TAs who have the link **can edit**, ***not just*** **can view**, and also **uncheck** the **Notify people** box.\n",
        "\n",
        "Note that in google colab, we will only grade the version of the code right before the timestamp of the submission made in canvas. \n",
        "\n",
        "Extract the downloaded .zip file to a folder of your preference. The input and output paths are predefined and **DO NOT** change them, (we assume that 'Surname_Givenname_UNCCID_assignment3' is your working directory, and all the paths are relative to this directory).  The image read and write functions are already written for you. All you need to do is to fill in the blanks as indicated to generate proper outputs.\n",
        "\n",
        "\n",
        "-- DO NOT change the folder structure, please just fill in the blanks. <br>\n",
        "\n",
        "You are encouraged to post and answer questions on Canvas. Please ask questions on Canvas and send emails only for personal issues.\n",
        "\n",
        "If you alter the folder structures, the grading of your homework will be significantly delayed and possibly penalized.\n",
        "\n",
        "Be aware that your code will undergo plagiarism check both vertically and horizontally. Please do your own work.\n",
        "\n",
        "Late submission penalty: <br>\n",
        "There will be a 10% penalty per day for late submission. However, you will have THREE days throughout the whole semester to submit late without penalty. Note that the grace period is calculated by days instead of hours. If you submit the homework one minute after the deadline, one late day will be counted. Likewise, if you submit one minute after the deadline, the 10% penaly will be imposed if not using the grace period.\n"
      ]
    }
  ],
  "metadata": {
    "kernelspec": {
      "display_name": "Python 3",
      "language": "python",
      "name": "python3"
    },
    "language_info": {
      "codemirror_mode": {
        "name": "ipython",
        "version": 3
      },
      "file_extension": ".py",
      "mimetype": "text/x-python",
      "name": "python",
      "nbconvert_exporter": "python",
      "pygments_lexer": "ipython3",
      "version": "3.8.8"
    },
    "colab": {
      "provenance": []
    },
    "accelerator": "GPU",
    "gpuClass": "standard",
    "widgets": {
      "application/vnd.jupyter.widget-state+json": {
        "653d87971ab444239b281874f6871c1d": {
          "model_module": "@jupyter-widgets/controls",
          "model_name": "HBoxModel",
          "model_module_version": "1.5.0",
          "state": {
            "_dom_classes": [],
            "_model_module": "@jupyter-widgets/controls",
            "_model_module_version": "1.5.0",
            "_model_name": "HBoxModel",
            "_view_count": null,
            "_view_module": "@jupyter-widgets/controls",
            "_view_module_version": "1.5.0",
            "_view_name": "HBoxView",
            "box_style": "",
            "children": [
              "IPY_MODEL_88b845fd39bd405e93f789450b5068a9",
              "IPY_MODEL_9d22c2431af34298b0c961cb5d469ab5",
              "IPY_MODEL_fa3a1716cc584370b18a0aee93bdda05"
            ],
            "layout": "IPY_MODEL_bb6a86a53b504e039c7b64de40855356"
          }
        },
        "88b845fd39bd405e93f789450b5068a9": {
          "model_module": "@jupyter-widgets/controls",
          "model_name": "HTMLModel",
          "model_module_version": "1.5.0",
          "state": {
            "_dom_classes": [],
            "_model_module": "@jupyter-widgets/controls",
            "_model_module_version": "1.5.0",
            "_model_name": "HTMLModel",
            "_view_count": null,
            "_view_module": "@jupyter-widgets/controls",
            "_view_module_version": "1.5.0",
            "_view_name": "HTMLView",
            "description": "",
            "description_tooltip": null,
            "layout": "IPY_MODEL_a9cd73ac39b343f589b80f363d9ee783",
            "placeholder": "​",
            "style": "IPY_MODEL_6cda039a0b684586bc1a1ca5f7ccbb48",
            "value": "100%"
          }
        },
        "9d22c2431af34298b0c961cb5d469ab5": {
          "model_module": "@jupyter-widgets/controls",
          "model_name": "FloatProgressModel",
          "model_module_version": "1.5.0",
          "state": {
            "_dom_classes": [],
            "_model_module": "@jupyter-widgets/controls",
            "_model_module_version": "1.5.0",
            "_model_name": "FloatProgressModel",
            "_view_count": null,
            "_view_module": "@jupyter-widgets/controls",
            "_view_module_version": "1.5.0",
            "_view_name": "ProgressView",
            "bar_style": "success",
            "description": "",
            "description_tooltip": null,
            "layout": "IPY_MODEL_0bcf80488d9246dab96758332c535181",
            "max": 244408911,
            "min": 0,
            "orientation": "horizontal",
            "style": "IPY_MODEL_3de65f140f7a43cb87755deef5c1201b",
            "value": 244408911
          }
        },
        "fa3a1716cc584370b18a0aee93bdda05": {
          "model_module": "@jupyter-widgets/controls",
          "model_name": "HTMLModel",
          "model_module_version": "1.5.0",
          "state": {
            "_dom_classes": [],
            "_model_module": "@jupyter-widgets/controls",
            "_model_module_version": "1.5.0",
            "_model_name": "HTMLModel",
            "_view_count": null,
            "_view_module": "@jupyter-widgets/controls",
            "_view_module_version": "1.5.0",
            "_view_name": "HTMLView",
            "description": "",
            "description_tooltip": null,
            "layout": "IPY_MODEL_c23822fdd5474f0caf10fdafb976e017",
            "placeholder": "​",
            "style": "IPY_MODEL_86d172e400e647f6adac7ab918c85691",
            "value": " 233M/233M [00:06&lt;00:00, 45.0MB/s]"
          }
        },
        "bb6a86a53b504e039c7b64de40855356": {
          "model_module": "@jupyter-widgets/base",
          "model_name": "LayoutModel",
          "model_module_version": "1.2.0",
          "state": {
            "_model_module": "@jupyter-widgets/base",
            "_model_module_version": "1.2.0",
            "_model_name": "LayoutModel",
            "_view_count": null,
            "_view_module": "@jupyter-widgets/base",
            "_view_module_version": "1.2.0",
            "_view_name": "LayoutView",
            "align_content": null,
            "align_items": null,
            "align_self": null,
            "border": null,
            "bottom": null,
            "display": null,
            "flex": null,
            "flex_flow": null,
            "grid_area": null,
            "grid_auto_columns": null,
            "grid_auto_flow": null,
            "grid_auto_rows": null,
            "grid_column": null,
            "grid_gap": null,
            "grid_row": null,
            "grid_template_areas": null,
            "grid_template_columns": null,
            "grid_template_rows": null,
            "height": null,
            "justify_content": null,
            "justify_items": null,
            "left": null,
            "margin": null,
            "max_height": null,
            "max_width": null,
            "min_height": null,
            "min_width": null,
            "object_fit": null,
            "object_position": null,
            "order": null,
            "overflow": null,
            "overflow_x": null,
            "overflow_y": null,
            "padding": null,
            "right": null,
            "top": null,
            "visibility": null,
            "width": null
          }
        },
        "a9cd73ac39b343f589b80f363d9ee783": {
          "model_module": "@jupyter-widgets/base",
          "model_name": "LayoutModel",
          "model_module_version": "1.2.0",
          "state": {
            "_model_module": "@jupyter-widgets/base",
            "_model_module_version": "1.2.0",
            "_model_name": "LayoutModel",
            "_view_count": null,
            "_view_module": "@jupyter-widgets/base",
            "_view_module_version": "1.2.0",
            "_view_name": "LayoutView",
            "align_content": null,
            "align_items": null,
            "align_self": null,
            "border": null,
            "bottom": null,
            "display": null,
            "flex": null,
            "flex_flow": null,
            "grid_area": null,
            "grid_auto_columns": null,
            "grid_auto_flow": null,
            "grid_auto_rows": null,
            "grid_column": null,
            "grid_gap": null,
            "grid_row": null,
            "grid_template_areas": null,
            "grid_template_columns": null,
            "grid_template_rows": null,
            "height": null,
            "justify_content": null,
            "justify_items": null,
            "left": null,
            "margin": null,
            "max_height": null,
            "max_width": null,
            "min_height": null,
            "min_width": null,
            "object_fit": null,
            "object_position": null,
            "order": null,
            "overflow": null,
            "overflow_x": null,
            "overflow_y": null,
            "padding": null,
            "right": null,
            "top": null,
            "visibility": null,
            "width": null
          }
        },
        "6cda039a0b684586bc1a1ca5f7ccbb48": {
          "model_module": "@jupyter-widgets/controls",
          "model_name": "DescriptionStyleModel",
          "model_module_version": "1.5.0",
          "state": {
            "_model_module": "@jupyter-widgets/controls",
            "_model_module_version": "1.5.0",
            "_model_name": "DescriptionStyleModel",
            "_view_count": null,
            "_view_module": "@jupyter-widgets/base",
            "_view_module_version": "1.2.0",
            "_view_name": "StyleView",
            "description_width": ""
          }
        },
        "0bcf80488d9246dab96758332c535181": {
          "model_module": "@jupyter-widgets/base",
          "model_name": "LayoutModel",
          "model_module_version": "1.2.0",
          "state": {
            "_model_module": "@jupyter-widgets/base",
            "_model_module_version": "1.2.0",
            "_model_name": "LayoutModel",
            "_view_count": null,
            "_view_module": "@jupyter-widgets/base",
            "_view_module_version": "1.2.0",
            "_view_name": "LayoutView",
            "align_content": null,
            "align_items": null,
            "align_self": null,
            "border": null,
            "bottom": null,
            "display": null,
            "flex": null,
            "flex_flow": null,
            "grid_area": null,
            "grid_auto_columns": null,
            "grid_auto_flow": null,
            "grid_auto_rows": null,
            "grid_column": null,
            "grid_gap": null,
            "grid_row": null,
            "grid_template_areas": null,
            "grid_template_columns": null,
            "grid_template_rows": null,
            "height": null,
            "justify_content": null,
            "justify_items": null,
            "left": null,
            "margin": null,
            "max_height": null,
            "max_width": null,
            "min_height": null,
            "min_width": null,
            "object_fit": null,
            "object_position": null,
            "order": null,
            "overflow": null,
            "overflow_x": null,
            "overflow_y": null,
            "padding": null,
            "right": null,
            "top": null,
            "visibility": null,
            "width": null
          }
        },
        "3de65f140f7a43cb87755deef5c1201b": {
          "model_module": "@jupyter-widgets/controls",
          "model_name": "ProgressStyleModel",
          "model_module_version": "1.5.0",
          "state": {
            "_model_module": "@jupyter-widgets/controls",
            "_model_module_version": "1.5.0",
            "_model_name": "ProgressStyleModel",
            "_view_count": null,
            "_view_module": "@jupyter-widgets/base",
            "_view_module_version": "1.2.0",
            "_view_name": "StyleView",
            "bar_color": null,
            "description_width": ""
          }
        },
        "c23822fdd5474f0caf10fdafb976e017": {
          "model_module": "@jupyter-widgets/base",
          "model_name": "LayoutModel",
          "model_module_version": "1.2.0",
          "state": {
            "_model_module": "@jupyter-widgets/base",
            "_model_module_version": "1.2.0",
            "_model_name": "LayoutModel",
            "_view_count": null,
            "_view_module": "@jupyter-widgets/base",
            "_view_module_version": "1.2.0",
            "_view_name": "LayoutView",
            "align_content": null,
            "align_items": null,
            "align_self": null,
            "border": null,
            "bottom": null,
            "display": null,
            "flex": null,
            "flex_flow": null,
            "grid_area": null,
            "grid_auto_columns": null,
            "grid_auto_flow": null,
            "grid_auto_rows": null,
            "grid_column": null,
            "grid_gap": null,
            "grid_row": null,
            "grid_template_areas": null,
            "grid_template_columns": null,
            "grid_template_rows": null,
            "height": null,
            "justify_content": null,
            "justify_items": null,
            "left": null,
            "margin": null,
            "max_height": null,
            "max_width": null,
            "min_height": null,
            "min_width": null,
            "object_fit": null,
            "object_position": null,
            "order": null,
            "overflow": null,
            "overflow_x": null,
            "overflow_y": null,
            "padding": null,
            "right": null,
            "top": null,
            "visibility": null,
            "width": null
          }
        },
        "86d172e400e647f6adac7ab918c85691": {
          "model_module": "@jupyter-widgets/controls",
          "model_name": "DescriptionStyleModel",
          "model_module_version": "1.5.0",
          "state": {
            "_model_module": "@jupyter-widgets/controls",
            "_model_module_version": "1.5.0",
            "_model_name": "DescriptionStyleModel",
            "_view_count": null,
            "_view_module": "@jupyter-widgets/base",
            "_view_module_version": "1.2.0",
            "_view_name": "StyleView",
            "description_width": ""
          }
        },
        "44468c591f3846de8197d8da335f00a2": {
          "model_module": "@jupyter-widgets/controls",
          "model_name": "HBoxModel",
          "model_module_version": "1.5.0",
          "state": {
            "_dom_classes": [],
            "_model_module": "@jupyter-widgets/controls",
            "_model_module_version": "1.5.0",
            "_model_name": "HBoxModel",
            "_view_count": null,
            "_view_module": "@jupyter-widgets/controls",
            "_view_module_version": "1.5.0",
            "_view_name": "HBoxView",
            "box_style": "",
            "children": [
              "IPY_MODEL_1fa0e80b5c6747ee9ec68659c294fb18",
              "IPY_MODEL_b48e241258854e1fa05493842615a807",
              "IPY_MODEL_7f2377dcbe0f42a288e3ac254a543c48"
            ],
            "layout": "IPY_MODEL_a9d4e744dac54bf9a5775d8cd7e5b8cc"
          }
        },
        "1fa0e80b5c6747ee9ec68659c294fb18": {
          "model_module": "@jupyter-widgets/controls",
          "model_name": "HTMLModel",
          "model_module_version": "1.5.0",
          "state": {
            "_dom_classes": [],
            "_model_module": "@jupyter-widgets/controls",
            "_model_module_version": "1.5.0",
            "_model_name": "HTMLModel",
            "_view_count": null,
            "_view_module": "@jupyter-widgets/controls",
            "_view_module_version": "1.5.0",
            "_view_name": "HTMLView",
            "description": "",
            "description_tooltip": null,
            "layout": "IPY_MODEL_708646403ebe49f7b7118cf5d77002aa",
            "placeholder": "​",
            "style": "IPY_MODEL_2ececfeda4d3430c9783be2250758d79",
            "value": "100%"
          }
        },
        "b48e241258854e1fa05493842615a807": {
          "model_module": "@jupyter-widgets/controls",
          "model_name": "FloatProgressModel",
          "model_module_version": "1.5.0",
          "state": {
            "_dom_classes": [],
            "_model_module": "@jupyter-widgets/controls",
            "_model_module_version": "1.5.0",
            "_model_name": "FloatProgressModel",
            "_view_count": null,
            "_view_module": "@jupyter-widgets/controls",
            "_view_module_version": "1.5.0",
            "_view_name": "ProgressView",
            "bar_style": "success",
            "description": "",
            "description_tooltip": null,
            "layout": "IPY_MODEL_07aeb4d6b4df49aa9d754232894c3b6a",
            "max": 102530333,
            "min": 0,
            "orientation": "horizontal",
            "style": "IPY_MODEL_d5480c33affa4537a143604e08b8be6e",
            "value": 102530333
          }
        },
        "7f2377dcbe0f42a288e3ac254a543c48": {
          "model_module": "@jupyter-widgets/controls",
          "model_name": "HTMLModel",
          "model_module_version": "1.5.0",
          "state": {
            "_dom_classes": [],
            "_model_module": "@jupyter-widgets/controls",
            "_model_module_version": "1.5.0",
            "_model_name": "HTMLModel",
            "_view_count": null,
            "_view_module": "@jupyter-widgets/controls",
            "_view_module_version": "1.5.0",
            "_view_name": "HTMLView",
            "description": "",
            "description_tooltip": null,
            "layout": "IPY_MODEL_77d90e7af1b74231b837f77c23f2c761",
            "placeholder": "​",
            "style": "IPY_MODEL_e86e29de808d4882a09c3e536184e0cd",
            "value": " 97.8M/97.8M [00:00&lt;00:00, 171MB/s]"
          }
        },
        "a9d4e744dac54bf9a5775d8cd7e5b8cc": {
          "model_module": "@jupyter-widgets/base",
          "model_name": "LayoutModel",
          "model_module_version": "1.2.0",
          "state": {
            "_model_module": "@jupyter-widgets/base",
            "_model_module_version": "1.2.0",
            "_model_name": "LayoutModel",
            "_view_count": null,
            "_view_module": "@jupyter-widgets/base",
            "_view_module_version": "1.2.0",
            "_view_name": "LayoutView",
            "align_content": null,
            "align_items": null,
            "align_self": null,
            "border": null,
            "bottom": null,
            "display": null,
            "flex": null,
            "flex_flow": null,
            "grid_area": null,
            "grid_auto_columns": null,
            "grid_auto_flow": null,
            "grid_auto_rows": null,
            "grid_column": null,
            "grid_gap": null,
            "grid_row": null,
            "grid_template_areas": null,
            "grid_template_columns": null,
            "grid_template_rows": null,
            "height": null,
            "justify_content": null,
            "justify_items": null,
            "left": null,
            "margin": null,
            "max_height": null,
            "max_width": null,
            "min_height": null,
            "min_width": null,
            "object_fit": null,
            "object_position": null,
            "order": null,
            "overflow": null,
            "overflow_x": null,
            "overflow_y": null,
            "padding": null,
            "right": null,
            "top": null,
            "visibility": null,
            "width": null
          }
        },
        "708646403ebe49f7b7118cf5d77002aa": {
          "model_module": "@jupyter-widgets/base",
          "model_name": "LayoutModel",
          "model_module_version": "1.2.0",
          "state": {
            "_model_module": "@jupyter-widgets/base",
            "_model_module_version": "1.2.0",
            "_model_name": "LayoutModel",
            "_view_count": null,
            "_view_module": "@jupyter-widgets/base",
            "_view_module_version": "1.2.0",
            "_view_name": "LayoutView",
            "align_content": null,
            "align_items": null,
            "align_self": null,
            "border": null,
            "bottom": null,
            "display": null,
            "flex": null,
            "flex_flow": null,
            "grid_area": null,
            "grid_auto_columns": null,
            "grid_auto_flow": null,
            "grid_auto_rows": null,
            "grid_column": null,
            "grid_gap": null,
            "grid_row": null,
            "grid_template_areas": null,
            "grid_template_columns": null,
            "grid_template_rows": null,
            "height": null,
            "justify_content": null,
            "justify_items": null,
            "left": null,
            "margin": null,
            "max_height": null,
            "max_width": null,
            "min_height": null,
            "min_width": null,
            "object_fit": null,
            "object_position": null,
            "order": null,
            "overflow": null,
            "overflow_x": null,
            "overflow_y": null,
            "padding": null,
            "right": null,
            "top": null,
            "visibility": null,
            "width": null
          }
        },
        "2ececfeda4d3430c9783be2250758d79": {
          "model_module": "@jupyter-widgets/controls",
          "model_name": "DescriptionStyleModel",
          "model_module_version": "1.5.0",
          "state": {
            "_model_module": "@jupyter-widgets/controls",
            "_model_module_version": "1.5.0",
            "_model_name": "DescriptionStyleModel",
            "_view_count": null,
            "_view_module": "@jupyter-widgets/base",
            "_view_module_version": "1.2.0",
            "_view_name": "StyleView",
            "description_width": ""
          }
        },
        "07aeb4d6b4df49aa9d754232894c3b6a": {
          "model_module": "@jupyter-widgets/base",
          "model_name": "LayoutModel",
          "model_module_version": "1.2.0",
          "state": {
            "_model_module": "@jupyter-widgets/base",
            "_model_module_version": "1.2.0",
            "_model_name": "LayoutModel",
            "_view_count": null,
            "_view_module": "@jupyter-widgets/base",
            "_view_module_version": "1.2.0",
            "_view_name": "LayoutView",
            "align_content": null,
            "align_items": null,
            "align_self": null,
            "border": null,
            "bottom": null,
            "display": null,
            "flex": null,
            "flex_flow": null,
            "grid_area": null,
            "grid_auto_columns": null,
            "grid_auto_flow": null,
            "grid_auto_rows": null,
            "grid_column": null,
            "grid_gap": null,
            "grid_row": null,
            "grid_template_areas": null,
            "grid_template_columns": null,
            "grid_template_rows": null,
            "height": null,
            "justify_content": null,
            "justify_items": null,
            "left": null,
            "margin": null,
            "max_height": null,
            "max_width": null,
            "min_height": null,
            "min_width": null,
            "object_fit": null,
            "object_position": null,
            "order": null,
            "overflow": null,
            "overflow_x": null,
            "overflow_y": null,
            "padding": null,
            "right": null,
            "top": null,
            "visibility": null,
            "width": null
          }
        },
        "d5480c33affa4537a143604e08b8be6e": {
          "model_module": "@jupyter-widgets/controls",
          "model_name": "ProgressStyleModel",
          "model_module_version": "1.5.0",
          "state": {
            "_model_module": "@jupyter-widgets/controls",
            "_model_module_version": "1.5.0",
            "_model_name": "ProgressStyleModel",
            "_view_count": null,
            "_view_module": "@jupyter-widgets/base",
            "_view_module_version": "1.2.0",
            "_view_name": "StyleView",
            "bar_color": null,
            "description_width": ""
          }
        },
        "77d90e7af1b74231b837f77c23f2c761": {
          "model_module": "@jupyter-widgets/base",
          "model_name": "LayoutModel",
          "model_module_version": "1.2.0",
          "state": {
            "_model_module": "@jupyter-widgets/base",
            "_model_module_version": "1.2.0",
            "_model_name": "LayoutModel",
            "_view_count": null,
            "_view_module": "@jupyter-widgets/base",
            "_view_module_version": "1.2.0",
            "_view_name": "LayoutView",
            "align_content": null,
            "align_items": null,
            "align_self": null,
            "border": null,
            "bottom": null,
            "display": null,
            "flex": null,
            "flex_flow": null,
            "grid_area": null,
            "grid_auto_columns": null,
            "grid_auto_flow": null,
            "grid_auto_rows": null,
            "grid_column": null,
            "grid_gap": null,
            "grid_row": null,
            "grid_template_areas": null,
            "grid_template_columns": null,
            "grid_template_rows": null,
            "height": null,
            "justify_content": null,
            "justify_items": null,
            "left": null,
            "margin": null,
            "max_height": null,
            "max_width": null,
            "min_height": null,
            "min_width": null,
            "object_fit": null,
            "object_position": null,
            "order": null,
            "overflow": null,
            "overflow_x": null,
            "overflow_y": null,
            "padding": null,
            "right": null,
            "top": null,
            "visibility": null,
            "width": null
          }
        },
        "e86e29de808d4882a09c3e536184e0cd": {
          "model_module": "@jupyter-widgets/controls",
          "model_name": "DescriptionStyleModel",
          "model_module_version": "1.5.0",
          "state": {
            "_model_module": "@jupyter-widgets/controls",
            "_model_module_version": "1.5.0",
            "_model_name": "DescriptionStyleModel",
            "_view_count": null,
            "_view_module": "@jupyter-widgets/base",
            "_view_module_version": "1.2.0",
            "_view_name": "StyleView",
            "description_width": ""
          }
        }
      }
    }
  },
  "nbformat": 4,
  "nbformat_minor": 5
}