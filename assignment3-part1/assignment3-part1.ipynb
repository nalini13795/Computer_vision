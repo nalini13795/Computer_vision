{
  "cells": [
    {
      "cell_type": "markdown",
      "id": "367ea638",
      "metadata": {
        "id": "367ea638"
      },
      "source": [
        "# ITCS 4152/5152 Assignment3-Part1\n",
        "**Due date: 11:59 pm EST on Nov 16, 2022 (Wed.)**\n",
        "\n",
        "---\n",
        "In this semester, we will use Google Colab for the assignments, which allows us to utilize resources that some of us might not have in their local machines such as GPUs. You will need to use your UNC Charlotte (*.uncc.edu) account for coding and Google Drive to save your results.\n",
        "\n",
        "## Google Colab Tutorial\n",
        "---\n",
        "Go to https://colab.research.google.com/notebooks/, you will see a tutorial named \"Welcome to Colaboratory\" file, where you can learn the basics of using google colab.\n",
        "\n",
        "Settings used for assignments: ***Edit -> Notebook Settings -> Runtime Type (Python 3)***.\n",
        "\n",
        "\n",
        "## Description\n",
        "---\n",
        "This project is an introduction to deep learning tools for computer vision. You will design and train deep convolutional networks for scene recognition using [PyTorch](http://pytorch.org). You can visualize the\n",
        "structure of the network with [mNeuron] (http://vision03.csail.mit.edu/cnn_art/index.html)\n",
        "\n",
        "In the previous you have trained a deep convolutional network from scratch to recognize scenes. The starter codes similar to the previous assignment gives you methods to load data and display them. In the previous assignment you might have managed to achieve a recognition accuracy to 50, 60, or perhaps 70%. Unfortunately, we only have 2,400 training examples so it doesn't seem possible to train a network from scratch which outperforms hand-crafted features\n",
        "\n",
        "Therefore, in this assignment, you will instead fine-tune a pre-trained deep network to achieve about 85% accuracy on the task. We will use the pretrained AlexNet network which was not trained to recognize scenes at all.\n",
        "\n",
        "This approach and the previous approach of training from the scratch represent the most common approaches to recognition problems in computer vision today -- train a deep network from scratch if you have enough data (it's not always obvious whether or not you do), and if you cannot then instead fine-tune a pre-trained network.\n",
        "\n",
        "There are 3 sub problems (under Problem 1) in this homework with a total of 70 points and 10 bonus points. Be sure to read **Submission Guidelines** below. They are important. For the problems requiring text descriptions, you might want to add a markdown block for that. **Note that the instructor and the TAs are not going to provide any further information regarding the bonus question**.\n",
        "\n",
        "## Dataset\n",
        "---\n",
        "Save the [dataset(click me)](https://drive.google.com/open?id=1NWC3TMsXSWN2TeoYMCjhf2N1b-WRDh-M) into your working folder in your Google Drive for this homework. <br>\n",
        "Under your root folder, there should be a folder named \"data\" (i.e. XXX/Surname_Givenname_UNCCID/data) containing the images.\n",
        "**Do not upload** the data subfolder before submitting on blackboard due to size limit. There should be only one .ipynb file under your root folder Surname_Givenname_UNCCID.\n",
        "\n",
        "## Some Tutorials (PyTorch)\n",
        "---\n",
        "- You will be using PyTorch for deep learning toolbox (follow the [link](http://pytorch.org) for installation).\n",
        "- For PyTorch beginners, please read this [tutorial](http://pytorch.org/tutorials/beginner/deep_learning_60min_blitz.html) before doing your homework.\n",
        "- Feel free to study more tutorials at http://pytorch.org/tutorials/.\n",
        "- Find cool visualization here at http://playground.tensorflow.org."
      ]
    },
    {
      "cell_type": "code",
      "execution_count": 2,
      "id": "163b6de2",
      "metadata": {
        "id": "163b6de2"
      },
      "outputs": [],
      "source": [
        "# import packages here\n",
        "import cv2\n",
        "import numpy as np\n",
        "import matplotlib.pyplot as plt\n",
        "import glob\n",
        "import random \n",
        "import time\n",
        "\n",
        "import torch\n",
        "import torchvision\n",
        "import torchvision.transforms as transforms\n",
        "\n",
        "from torch.autograd import Variable\n",
        "import torch.nn as nn\n",
        "import torch.nn.functional as F\n",
        "import copy"
      ]
    },
    {
      "cell_type": "code",
      "execution_count": 4,
      "id": "502f4fec",
      "metadata": {
        "id": "502f4fec",
        "outputId": "ca0e984f-732f-47bc-ba34-0b83f6124afd",
        "colab": {
          "base_uri": "https://localhost:8080/"
        }
      },
      "outputs": [
        {
          "output_type": "stream",
          "name": "stdout",
          "text": [
            "Mounted at /content/gdrive\n"
          ]
        }
      ],
      "source": [
        "# Mount your google drive where you've saved your assignment folder\n",
        "from google.colab import drive\n",
        "drive.mount('/content/gdrive')"
      ]
    },
    {
      "cell_type": "code",
      "execution_count": 5,
      "id": "b41de13c",
      "metadata": {
        "id": "b41de13c",
        "outputId": "00b7ccaa-2f1d-4350-8744-3dee83a74003",
        "colab": {
          "base_uri": "https://localhost:8080/"
        }
      },
      "outputs": [
        {
          "output_type": "stream",
          "name": "stdout",
          "text": [
            "/content/gdrive/MyDrive/CV/Katiyar_Nalini_801204572_assignment3_part1\n"
          ]
        }
      ],
      "source": [
        "# Replace '------' with the path such that \"ITCS_4152_5152_assignment2\" is your working directory\n",
        "%cd '/content/gdrive/MyDrive/CV/Katiyar_Nalini_801204572_assignment3_part1/'"
      ]
    },
    {
      "cell_type": "markdown",
      "id": "437b789c",
      "metadata": {
        "id": "437b789c"
      },
      "source": [
        "## Problem 0: Loading and Preprocessing data\n",
        "---\n",
        "(0 point) In this part, you are provided with a function that loads data into minibatches for training and testing in PyTorch. However, some preprocessing parts are missing. Your will need to implement them when doing Problem 1."
      ]
    },
    {
      "cell_type": "code",
      "execution_count": 5,
      "id": "1988d6ee",
      "metadata": {
        "id": "1988d6ee",
        "outputId": "ddaf6f6b-40f5-4ce8-e6b9-d67b137ca498",
        "colab": {
          "base_uri": "https://localhost:8080/"
        }
      },
      "outputs": [
        {
          "output_type": "stream",
          "name": "stdout",
          "text": [
            "class_names: {0: 'Forest', 1: 'Flower', 2: 'Coast', 3: 'Bedroom', 4: 'Office', 5: 'Mountain', 6: 'Kitchen', 7: 'OpenCountry', 8: 'Street', 9: 'Highway', 10: 'InsideCity', 11: 'Store', 12: 'LivingRoom', 13: 'Industrial', 14: 'TallBuilding', 15: 'Suburb'} \n"
          ]
        }
      ],
      "source": [
        "#--------------------------------------------------\n",
        "#    Load Training Data and Testing Data\n",
        "#--------------------------------------------------\n",
        "\n",
        "def set_random_seed(seed):\n",
        "     torch.manual_seed(seed)\n",
        "     torch.cuda.manual_seed_all(seed)\n",
        "     np.random.seed(seed)\n",
        "     random.seed(seed)\n",
        "     torch.backends.cudnn.deterministic = True\n",
        "set_random_seed(0)\n",
        "\n",
        "class_names = [name[13:] for name in glob.glob('./data/train/*')]\n",
        "class_names = dict(zip(range(len(class_names)), class_names))\n",
        "print(\"class_names: %s \" % class_names)\n",
        "\n",
        "def load_dataset(path, img_size, num_per_class=-1, batch_size=16, shuffle=False,\n",
        "           augment=False, is_color=False, zero_centered=False):    \n",
        "    data = []\n",
        "    labels = []    \n",
        "    channel_num = 3 if is_color else 1\n",
        "        \n",
        "    # read images and resizing\n",
        "    for id, class_name in class_names.items():\n",
        "        print(\"Loading images from class: %s\" % id)\n",
        "        img_path_class = glob.glob(path + class_name + '/*.jpg')\n",
        "        if num_per_class > 0:\n",
        "            img_path_class = img_path_class[:num_per_class]\n",
        "        labels.extend([id]*len(img_path_class))\n",
        "        for filename in img_path_class:\n",
        "            if is_color:\n",
        "                img = cv2.imread(filename)\n",
        "            else:\n",
        "                img = cv2.imread(filename, 0)\n",
        "            \n",
        "            # resize the image\n",
        "            img = cv2.resize(img, img_size, cv2.INTER_LINEAR)\n",
        "            \n",
        "            if is_color:\n",
        "                img = np.transpose(img, [2, 0, 1])\n",
        "            \n",
        "            # norm pixel values to [-1, 1]\n",
        "            data.append(img.astype(np.float)/255*2-1)\n",
        "            \n",
        "    ##########--WRITE YOUR CODE HERE--##########\n",
        "    # Data Augmentation \n",
        "    if augment: \n",
        "        for i in range(len(data)):\n",
        "          flip_img = cv2.flip(data[i], 1)\n",
        "          data.append(flip_img)\n",
        "          labels.append(labels[i])\n",
        "\n",
        "    ##########-------END OF CODE-------##########    \n",
        "    \n",
        "    ##########--WRITE YOUR CODE HERE--##########\n",
        "    # Data Normalization\n",
        "    if zero_centered:\n",
        "        mean = np.mean(data, axis=0)\n",
        "        for index in range(len(data)):\n",
        "          data[index]-= mean\n",
        "\n",
        "        \n",
        "    ##########-------END OF CODE-------##########\n",
        "         \n",
        "    # randomly permute (this step is important for training)\n",
        "    if shuffle:\n",
        "        bundle = list(zip(data, labels))\n",
        "        random.shuffle(bundle)\n",
        "        data, labels = zip(*bundle)\n",
        "    \n",
        "    # divide data into minibatches of TorchTensors\n",
        "    if batch_size > 1:\n",
        "        batch_data = []\n",
        "        batch_labels = []\n",
        "         \n",
        "        for i in range(int(len(data) / batch_size)):\n",
        "            minibatch_d = data[i*batch_size: (i+1)*batch_size]\n",
        "            minibatch_d = np.reshape(minibatch_d, (batch_size, channel_num, img_size[0], img_size[1]))\n",
        "            batch_data.append(torch.from_numpy(minibatch_d))\n",
        "\n",
        "            minibatch_l = labels[i*batch_size: (i+1)*batch_size]\n",
        "            batch_labels.append(torch.LongTensor(minibatch_l))\n",
        "        data, labels = batch_data, batch_labels \n",
        "    \n",
        "    return zip(batch_data, batch_labels)"
      ]
    },
    {
      "cell_type": "code",
      "execution_count": 6,
      "id": "9483a7cd",
      "metadata": {
        "id": "9483a7cd",
        "outputId": "8d122de8-6b6f-4dd0-bdb5-fae79b330dfd",
        "colab": {
          "base_uri": "https://localhost:8080/"
        }
      },
      "outputs": [
        {
          "output_type": "stream",
          "name": "stdout",
          "text": [
            "Loading images from class: 0\n"
          ]
        },
        {
          "output_type": "stream",
          "name": "stderr",
          "text": [
            "/usr/local/lib/python3.7/dist-packages/ipykernel_launcher.py:43: DeprecationWarning: `np.float` is a deprecated alias for the builtin `float`. To silence this warning, use `float` by itself. Doing this will not modify any behavior and is safe. If you specifically wanted the numpy scalar type, use `np.float64` here.\n",
            "Deprecated in NumPy 1.20; for more details and guidance: https://numpy.org/devdocs/release/1.20.0-notes.html#deprecations\n"
          ]
        },
        {
          "output_type": "stream",
          "name": "stdout",
          "text": [
            "Loading images from class: 1\n",
            "Loading images from class: 2\n",
            "Loading images from class: 3\n",
            "Loading images from class: 4\n",
            "Loading images from class: 5\n",
            "Loading images from class: 6\n",
            "Loading images from class: 7\n",
            "Loading images from class: 8\n",
            "Loading images from class: 9\n",
            "Loading images from class: 10\n",
            "Loading images from class: 11\n",
            "Loading images from class: 12\n",
            "Loading images from class: 13\n",
            "Loading images from class: 14\n",
            "Loading images from class: 15\n",
            "Finish loading 37 minibatches (batch_size=64) of training samples.\n",
            "Loading images from class: 0\n",
            "Loading images from class: 1\n",
            "Loading images from class: 2\n",
            "Loading images from class: 3\n",
            "Loading images from class: 4\n",
            "Loading images from class: 5\n",
            "Loading images from class: 6\n",
            "Loading images from class: 7\n",
            "Loading images from class: 8\n",
            "Loading images from class: 9\n",
            "Loading images from class: 10\n",
            "Loading images from class: 11\n",
            "Loading images from class: 12\n",
            "Loading images from class: 13\n",
            "Loading images from class: 14\n",
            "Loading images from class: 15\n",
            "Finish loading 6 minibatches (batch_size=64) of testing samples.\n"
          ]
        }
      ],
      "source": [
        "# load data into size (64, 64)\n",
        "img_size = (64, 64)\n",
        "batch_size = 64 # training sample number per batch\n",
        "\n",
        "# load training dataset\n",
        "trainloader_small = list(load_dataset('./data/train/', img_size, batch_size=batch_size, shuffle=True))\n",
        "train_num = len(trainloader_small)\n",
        "print(\"Finish loading %d minibatches (batch_size=%d) of training samples.\" % (train_num, batch_size))\n",
        "\n",
        "# load testing dataset\n",
        "testloader_small = list(load_dataset('./data/test/', img_size, num_per_class=50, batch_size=batch_size))\n",
        "test_num = len(testloader_small)\n",
        "print(\"Finish loading %d minibatches (batch_size=%d) of testing samples.\" % (test_num, batch_size))"
      ]
    },
    {
      "cell_type": "code",
      "execution_count": 7,
      "id": "6add360c",
      "metadata": {
        "id": "6add360c",
        "outputId": "3616be8a-3db5-47b4-c0d1-d1ff7cd7fd51",
        "colab": {
          "base_uri": "https://localhost:8080/",
          "height": 286
        }
      },
      "outputs": [
        {
          "output_type": "stream",
          "name": "stdout",
          "text": [
            "Suburb\n"
          ]
        },
        {
          "output_type": "display_data",
          "data": {
            "text/plain": [
              "<Figure size 432x288 with 1 Axes>"
            ],
            "image/png": "[encoded data removed]"
          },
          "metadata": {
            "needs_background": "light"
          }
        }
      ],
      "source": [
        "# show some images\n",
        "def imshow(img):\n",
        "    img = img / 2 + 0.5     # unnormalize\n",
        "    npimg = img.numpy()\n",
        "    if len(npimg.shape) > 2:\n",
        "        npimg = np.transpose(img, [1, 2, 0])\n",
        "    plt.figure\n",
        "    plt.imshow(npimg, 'gray')\n",
        "    plt.show()\n",
        "img, label = trainloader_small[0][0][11][0], trainloader_small[0][1][11]\n",
        "label = int(np.array(label))\n",
        "print(class_names[label])\n",
        "imshow(img)"
      ]
    },
    {
      "cell_type": "markdown",
      "id": "d906be39",
      "metadata": {
        "id": "d906be39"
      },
      "source": [
        "## Problem 1: Fine Tuning a Pre-Trained Deep Network\n",
        "Our convolutional network to this point isn't \"deep\". Fortunately, the representations learned by deep convolutional networks is that they generalize surprisingly well to other recognition tasks. \n",
        "\n",
        "But how do we use an existing deep network for a new recognition task? Take for instance,  [AlexNet](http://papers.nips.cc/paper/4824-imagenet-classification-with-deep-convolutional-neural-networks) network has 1000 units in the final layer corresponding to 1000 ImageNet categories.\n",
        "\n",
        "\n",
        "**Hints**:\n",
        "- Many pre-trained models are available in PyTorch at [here](http://pytorch.org/docs/master/torchvision/models.html).\n",
        "- For fine-tuning pretrained network using PyTorch, please read this [tutorial](http://pytorch.org/tutorials/beginner/transfer_learning_tutorial.html)."
      ]
    },
    {
      "cell_type": "markdown",
      "id": "d3d758ff",
      "metadata": {
        "id": "d3d758ff"
      },
      "source": [
        "### Problem 1.1\n",
        "\n",
        "**Strategy A**: *Fine-tune* an existing network. In this scenario you take an existing network, replace the final layer (or more) with random weights, and train the entire network again with images and ground truth labels for your recognition task. You are effectively treating the pre-trained deep network as a better initialization than the random weights used when training from scratch. When you don't have enough training data to train a complex network from scratch (e.g. with the 16 classes) this is an attractive option. Fine-tuning can work far better than Strategy B of taking the activations directly from an pre-trained CNN. For example, in [this paper](http://www.cc.gatech.edu/~hays/papers/deep_geo.pdf) from CVPR 2015, there wasn't enough data to train a deep network from scratch, but fine tuning led to 4 times higher accuracy than using off-the-shelf networks directly.\n",
        "\n",
        "(35 points) You are required to implement Strategy A to fine-tune a pre-trained **AlexNet** for this scene classification task. You should be able to achieve accuracy of **0.85** approximately. The minimum accuracy required for this section is **0.75**.\n",
        "\n",
        "Please provide detailed descriptions of:<br>\n",
        "(1) which layers of AlexNet have been replaced<br>\n",
        "(2) the architecture of the new layers added including activation methods (same as problem 1)<br>\n",
        "(3) the final accuracy on test set <br>"
      ]
    },
    {
      "cell_type": "code",
      "execution_count": 8,
      "id": "67208818",
      "metadata": {
        "id": "67208818",
        "outputId": "cf9dadc6-322f-4b19-aafb-452aff49a0b9",
        "colab": {
          "base_uri": "https://localhost:8080/"
        }
      },
      "outputs": [
        {
          "output_type": "stream",
          "name": "stdout",
          "text": [
            "Loading images from class: 0\n"
          ]
        },
        {
          "output_type": "stream",
          "name": "stderr",
          "text": [
            "/usr/local/lib/python3.7/dist-packages/ipykernel_launcher.py:43: DeprecationWarning: `np.float` is a deprecated alias for the builtin `float`. To silence this warning, use `float` by itself. Doing this will not modify any behavior and is safe. If you specifically wanted the numpy scalar type, use `np.float64` here.\n",
            "Deprecated in NumPy 1.20; for more details and guidance: https://numpy.org/devdocs/release/1.20.0-notes.html#deprecations\n"
          ]
        },
        {
          "output_type": "stream",
          "name": "stdout",
          "text": [
            "Loading images from class: 1\n",
            "Loading images from class: 2\n",
            "Loading images from class: 3\n",
            "Loading images from class: 4\n",
            "Loading images from class: 5\n",
            "Loading images from class: 6\n",
            "Loading images from class: 7\n",
            "Loading images from class: 8\n",
            "Loading images from class: 9\n",
            "Loading images from class: 10\n",
            "Loading images from class: 11\n",
            "Loading images from class: 12\n",
            "Loading images from class: 13\n",
            "Loading images from class: 14\n",
            "Loading images from class: 15\n",
            "Finish loading 50 minibatches (batch_size=64) of training samples.\n",
            "Loading images from class: 0\n",
            "Loading images from class: 1\n",
            "Loading images from class: 2\n",
            "Loading images from class: 3\n",
            "Loading images from class: 4\n",
            "Loading images from class: 5\n",
            "Loading images from class: 6\n",
            "Loading images from class: 7\n",
            "Loading images from class: 8\n",
            "Loading images from class: 9\n",
            "Loading images from class: 10\n",
            "Loading images from class: 11\n",
            "Loading images from class: 12\n",
            "Loading images from class: 13\n",
            "Loading images from class: 14\n",
            "Loading images from class: 15\n",
            "Finish loading 6 minibatches (batch_size=64) of testing samples.\n"
          ]
        }
      ],
      "source": [
        "# reload data with a larger size\n",
        "img_size = (224, 224)\n",
        "batch_size = 64 # training sample number per batch \n",
        "\n",
        "# load training dataset\n",
        "trainloader_large = list(load_dataset('./data/train/', img_size, num_per_class=100, batch_size=batch_size, shuffle=True, \n",
        "                                      augment=True, is_color=True, zero_centered=True))\n",
        "train_num = len(trainloader_large)\n",
        "print(\"Finish loading %d minibatches (batch_size=%d) of training samples.\" % (train_num, batch_size))\n",
        "\n",
        "# load testing dataset\n",
        "testloader_large = list(load_dataset('./data/test/', img_size, num_per_class=50, batch_size=batch_size, is_color=True, zero_centered=True))\n",
        "test_num = len(testloader_large)\n",
        "print(\"Finish loading %d minibatches (batch_size=%d) of testing samples.\" % (test_num, batch_size))"
      ]
    },
    {
      "cell_type": "code",
      "source": [
        "#--------------------------------------------------\n",
        "#       Model Training Function\n",
        "#--------------------------------------------------\n",
        "import torch.optim as optim\n",
        "import time\n",
        "  \n",
        "def trainModel(net, trainloader, train_option, testloader=None):  \n",
        "  loss_func = nn.CrossEntropyLoss()\n",
        "  lr = train_option['lr']\n",
        "  epoch = train_option['epoch']\n",
        "  device = train_option['device'] if 'device' in train_option.keys() else 'cpu'\n",
        "  log_iter = train_option['log_iter'] if 'log_iter' in train_option.keys() else 20\n",
        "  eval_epoch = 1\n",
        "  \n",
        "  if 'optimizer' in train_option.keys():\n",
        "    optimizer = train_option['optimizer']\n",
        "  else:\n",
        "    optimizer = optim.Adam(net.parameters(), lr=lr)\n",
        "\n",
        "  start_time = time.time()\n",
        "  if device == 'gpu':\n",
        "    net = net.cuda()\n",
        "    \n",
        "  iters = 0\n",
        "  running_loss = 0.0\n",
        "  for ep in range(epoch):\n",
        "    net.train()        \n",
        "    for iter, (x, y) in enumerate(trainloader):\n",
        "      iters += 1\n",
        "      batch_x = Variable(x).float()\n",
        "      batch_y = Variable(y).long()\n",
        "      if device == 'gpu':\n",
        "        batch_x = batch_x.cuda()\n",
        "        batch_y = batch_y.cuda()\n",
        "\n",
        "      outputs = net(batch_x)\n",
        "      loss = loss_func(outputs, batch_y)\n",
        "      optimizer.zero_grad()\n",
        "      loss.backward()\n",
        "      optimizer.step()\n",
        "      running_loss += loss.item()\n",
        "      \n",
        "      time_lapse = time.strftime('%H:%M:%S', time.gmtime(time.time() - start_time))\n",
        "      if iter % log_iter == 0:\n",
        "        print('Epoch:{:2d} | Iter:{:5d} | Time: {} | Train Loss: {:.4f} | Average Loss: {:.4f} '.format(ep+1, iter, time_lapse, loss.item(), running_loss/iters))\n",
        "   \n",
        "    if testloader is not None and ep % eval_epoch == 0:\n",
        "      evalModel(net, testloader)"
      ],
      "metadata": {
        "id": "E7V1fqMmBN49"
      },
      "id": "E7V1fqMmBN49",
      "execution_count": 9,
      "outputs": []
    },
    {
      "cell_type": "code",
      "source": [
        "#--------------------------------------------------\n",
        "#       Model Evaluating Function\n",
        "#--------------------------------------------------\n",
        "import time\n",
        "  \n",
        "def evalModel(net, testloader): \n",
        "  acc = 0.0\n",
        "  count = 0\n",
        "  start_time = time.time()\n",
        "  device = 'gpu' if next(net.parameters()).is_cuda else 'cpu'\n",
        "  net.eval()\n",
        "  \n",
        "  for iter, (x, y) in enumerate(testloader):\n",
        "        count += x.shape[0]\n",
        "        batch_x = Variable(x).float()\n",
        "        batch_y = Variable(y).long()\n",
        "        if device == 'gpu':\n",
        "          batch_x = batch_x.cuda()\n",
        "          batch_y = batch_y.cuda()\n",
        "        outputs = net(batch_x)\n",
        "        acc += torch.sum(outputs.max(1)[1]==batch_y)\n",
        "        \n",
        "  time_lapse = time.strftime('%H:%M:%S', time.gmtime(time.time() - start_time))        \n",
        "  print('Accuracy: {:5f} | Time: {}'.format(acc/count,time_lapse))\n",
        "  "
      ],
      "metadata": {
        "id": "lUH9rfs8Cere"
      },
      "id": "lUH9rfs8Cere",
      "execution_count": 10,
      "outputs": []
    },
    {
      "cell_type": "code",
      "execution_count": 1,
      "id": "e1ba6e02",
      "metadata": {
        "id": "e1ba6e02",
        "outputId": "00b8685b-c0b5-4a27-b381-75d259b32f22",
        "colab": {
          "base_uri": "https://localhost:8080/",
          "height": 244
        }
      },
      "outputs": [
        {
          "output_type": "error",
          "ename": "NameError",
          "evalue": "ignored",
          "traceback": [
            "\u001b[0;31m---------------------------------------------------------------------------\u001b[0m",
            "\u001b[0;31mNameError\u001b[0m                                 Traceback (most recent call last)",
            "\u001b[0;32m<ipython-input-1-fcf2e709a8a0>\u001b[0m in \u001b[0;36m<module>\u001b[0;34m\u001b[0m\n\u001b[1;32m      3\u001b[0m \u001b[0;31m#--------------------------------------------------\u001b[0m\u001b[0;34m\u001b[0m\u001b[0;34m\u001b[0m\u001b[0;34m\u001b[0m\u001b[0m\n\u001b[1;32m      4\u001b[0m \u001b[0;34m\u001b[0m\u001b[0m\n\u001b[0;32m----> 5\u001b[0;31m \u001b[0malexnet\u001b[0m \u001b[0;34m=\u001b[0m \u001b[0mtorchvision\u001b[0m\u001b[0;34m.\u001b[0m\u001b[0mmodels\u001b[0m\u001b[0;34m.\u001b[0m\u001b[0malexnet\u001b[0m\u001b[0;34m(\u001b[0m\u001b[0mweights\u001b[0m\u001b[0;34m=\u001b[0m\u001b[0;32mTrue\u001b[0m\u001b[0;34m)\u001b[0m\u001b[0;34m\u001b[0m\u001b[0;34m\u001b[0m\u001b[0m\n\u001b[0m\u001b[1;32m      6\u001b[0m \u001b[0mtrain_option\u001b[0m \u001b[0;34m=\u001b[0m \u001b[0;34m{\u001b[0m\u001b[0;34m}\u001b[0m\u001b[0;34m\u001b[0m\u001b[0;34m\u001b[0m\u001b[0m\n\u001b[1;32m      7\u001b[0m \u001b[0mtrain_option\u001b[0m\u001b[0;34m[\u001b[0m\u001b[0;34m'lr'\u001b[0m\u001b[0;34m]\u001b[0m \u001b[0;34m=\u001b[0m \u001b[0;36m0.0001\u001b[0m\u001b[0;34m\u001b[0m\u001b[0;34m\u001b[0m\u001b[0m\n",
            "\u001b[0;31mNameError\u001b[0m: name 'torchvision' is not defined"
          ]
        }
      ],
      "source": [
        "#--------------------------------------------------\n",
        "#       Fine-Tune Pretrained Network\n",
        "#--------------------------------------------------\n",
        "\n",
        "alexnet = torchvision.models.alexnet(weights=True)\n",
        "train_option = {}\n",
        "train_option['lr'] = 0.0001\n",
        "train_option['epoch'] = 20\n",
        "train_option['device'] = 'gpu'\n",
        "alexnet.features[1] = nn.LeakyReLU()\n",
        "alexnet.classifier[0] = nn.Dropout(0.6)\n",
        "# alexnet.classifier[6] = nn.Linear(4096, 16)\n",
        "\n",
        "# print(alexnet)\n",
        "trainModel(alexnet, trainloader_large, train_option, testloader_large)\n",
        "\n",
        "\n"
      ]
    },
    {
      "cell_type": "markdown",
      "id": "874db589",
      "metadata": {
        "id": "874db589"
      },
      "source": [
        "**Answer**:\n",
        "\n",
        "(1) which layers of AlexNet have been replaced\n",
        "\n",
        "\n",
        "\n",
        "(2) the architecture of the new layers added including activation methods (same as problem 1)\n",
        "\n",
        "Data augmentation: \n",
        "\n",
        "Data normalization: \n",
        "\n",
        "Features Layers : \n",
        "\n",
        "Classifier Layer 1: \n",
        "\n",
        "Classifier Layer 2: \n",
        "\n",
        "Classifier Layer 3: \n",
        "\n",
        "...\n",
        "\n",
        "(3) the final accuracy on test set\n",
        "\n",
        "Accuracy on test set: \n",
        "\n"
      ]
    },
    {
      "cell_type": "markdown",
      "id": "3735abd3",
      "metadata": {
        "id": "3735abd3"
      },
      "source": [
        "### Problem 1.2\n",
        "**Strategy B**: One could use those 1000 activations as a feature in place of a hand crafted feature such as a bag-of-features representation. You would train a classifier (typically a linear SVM) in that 1000 dimensional feature space. However, those activations are clearly very object specific and may not generalize well to new recognition tasks. It is generally better to use the activations in slightly earlier layers of the network, e.g. the 4096 activations in the last 2nd fully-connected layer. You can often get away with sub-sampling those 4096 activations considerably, e.g. taking only the first 1000 activations.\n",
        "\n",
        "(35 points) Implement Strategy B where you use the activations of the pre-trained **AlexNet** as features to train **one-vs-all SVMs** for your scene classification task. Report the final accuracy on test set. You should be able to achieve accuracy of **0.80** approximately. The minimum accuracy required for this section is **0.70**."
      ]
    },
    {
      "cell_type": "code",
      "execution_count": null,
      "id": "2086fbf1",
      "metadata": {
        "id": "2086fbf1"
      },
      "outputs": [],
      "source": [
        "#--------------------------------------------------\n",
        "#       Get Features from AlexNet\n",
        "#--------------------------------------------------\n",
        "\n",
        "train_feat, train_label = \n",
        "test_feat, test_label = \n"
      ]
    },
    {
      "cell_type": "code",
      "execution_count": null,
      "id": "4efbcc47",
      "metadata": {
        "id": "4efbcc47"
      },
      "outputs": [],
      "source": [
        "#--------------------------------------------------\n",
        "#       Train and Evaluate SVM\n",
        "#--------------------------------------------------\n"
      ]
    },
    {
      "cell_type": "markdown",
      "id": "74f5cd7b",
      "metadata": {
        "id": "74f5cd7b"
      },
      "source": [
        "**Answer**:\n",
        "\n",
        "Accuracy on test set: "
      ]
    },
    {
      "cell_type": "markdown",
      "id": "dd257204",
      "metadata": {
        "id": "dd257204"
      },
      "source": [
        "### Problem 1.3 (Bonus)\n",
        "\n",
        "(Bonus: 10 points) Bonus will be given to those who fine-tune the [ResNet network](https://pytorch.org/docs/stable/_modules/torchvision/models/resnet.html) [(paper)](https://arxiv.org/abs/1512.03385) and compare performance with AlexNet. Explain why ResNet performed better or worse. You are **required** to use **resnet50** model. You should be able to achieve accuracy of **0.99** approximately. The minimum accuracy required for this section is **0.85**."
      ]
    },
    {
      "cell_type": "code",
      "execution_count": null,
      "id": "4b906bbf",
      "metadata": {
        "id": "4b906bbf",
        "outputId": "fcc4ae79-a3a0-4d94-b6f6-705166d94f51",
        "colab": {
          "base_uri": "https://localhost:8080/"
        }
      },
      "outputs": [
        {
          "output_type": "stream",
          "name": "stdout",
          "text": [
            "Epoch: 1 | Iter:    0 | Time: 00:00:01 | Train Loss: 12.1433 | Average Loss: 12.1433 \n",
            "Epoch: 1 | Iter:   20 | Time: 00:00:34 | Train Loss: 1.5970 | Average Loss: 3.4256 \n",
            "Epoch: 1 | Iter:   40 | Time: 00:01:05 | Train Loss: 1.1564 | Average Loss: 2.3984 \n",
            "Accuracy: 0.791667 | Time: 00:00:02\n",
            "Epoch: 2 | Iter:    0 | Time: 00:01:24 | Train Loss: 0.8433 | Average Loss: 2.1147 \n",
            "Epoch: 2 | Iter:   20 | Time: 00:01:55 | Train Loss: 0.3709 | Average Loss: 1.7047 \n",
            "Epoch: 2 | Iter:   40 | Time: 00:02:27 | Train Loss: 0.3691 | Average Loss: 1.4332 \n",
            "Accuracy: 0.815104 | Time: 00:00:02\n",
            "Epoch: 3 | Iter:    0 | Time: 00:02:46 | Train Loss: 0.3310 | Average Loss: 1.3246 \n",
            "Epoch: 3 | Iter:   20 | Time: 00:03:17 | Train Loss: 0.2759 | Average Loss: 1.1531 \n",
            "Epoch: 3 | Iter:   40 | Time: 00:03:49 | Train Loss: 0.1179 | Average Loss: 1.0188 \n",
            "Accuracy: 0.791667 | Time: 00:00:02\n",
            "Epoch: 4 | Iter:    0 | Time: 00:04:08 | Train Loss: 0.2836 | Average Loss: 0.9697 \n",
            "Epoch: 4 | Iter:   20 | Time: 00:04:39 | Train Loss: 0.1230 | Average Loss: 0.8826 \n",
            "Epoch: 4 | Iter:   40 | Time: 00:05:11 | Train Loss: 0.0902 | Average Loss: 0.8052 \n",
            "Accuracy: 0.789062 | Time: 00:00:02\n",
            "Epoch: 5 | Iter:    0 | Time: 00:05:30 | Train Loss: 0.3841 | Average Loss: 0.7735 \n",
            "Epoch: 5 | Iter:   20 | Time: 00:06:01 | Train Loss: 0.1039 | Average Loss: 0.7208 \n",
            "Epoch: 5 | Iter:   40 | Time: 00:06:33 | Train Loss: 0.0527 | Average Loss: 0.6737 \n",
            "Accuracy: 0.776042 | Time: 00:00:02\n",
            "Epoch: 6 | Iter:    0 | Time: 00:06:52 | Train Loss: 0.2172 | Average Loss: 0.6550 \n",
            "Epoch: 6 | Iter:   20 | Time: 00:07:23 | Train Loss: 0.1413 | Average Loss: 0.6189 \n",
            "Epoch: 6 | Iter:   40 | Time: 00:07:55 | Train Loss: 0.0759 | Average Loss: 0.5835 \n",
            "Accuracy: 0.830729 | Time: 00:00:02\n",
            "Epoch: 7 | Iter:    0 | Time: 00:08:14 | Train Loss: 0.1104 | Average Loss: 0.5669 \n",
            "Epoch: 7 | Iter:   20 | Time: 00:08:45 | Train Loss: 0.0085 | Average Loss: 0.5339 \n",
            "Epoch: 7 | Iter:   40 | Time: 00:09:17 | Train Loss: 0.1364 | Average Loss: 0.5067 \n",
            "Accuracy: 0.841146 | Time: 00:00:02\n",
            "Epoch: 8 | Iter:    0 | Time: 00:09:35 | Train Loss: 0.0692 | Average Loss: 0.4933 \n",
            "Epoch: 8 | Iter:   20 | Time: 00:10:07 | Train Loss: 0.0264 | Average Loss: 0.4689 \n",
            "Epoch: 8 | Iter:   40 | Time: 00:10:38 | Train Loss: 0.0051 | Average Loss: 0.4480 \n",
            "Accuracy: 0.833333 | Time: 00:00:02\n",
            "Epoch: 9 | Iter:    0 | Time: 00:10:57 | Train Loss: 0.0165 | Average Loss: 0.4374 \n",
            "Epoch: 9 | Iter:   20 | Time: 00:11:29 | Train Loss: 0.0025 | Average Loss: 0.4179 \n",
            "Epoch: 9 | Iter:   40 | Time: 00:12:00 | Train Loss: 0.0030 | Average Loss: 0.3998 \n",
            "Accuracy: 0.869792 | Time: 00:00:02\n",
            "Epoch:10 | Iter:    0 | Time: 00:12:19 | Train Loss: 0.0035 | Average Loss: 0.3911 \n",
            "Epoch:10 | Iter:   20 | Time: 00:12:50 | Train Loss: 0.0927 | Average Loss: 0.3762 \n"
          ]
        }
      ],
      "source": [
        "#--------------------------------------------------\n",
        "#       Fine-Tune Pretrained Network\n",
        "#--------------------------------------------------\n",
        "\n",
        "vgg16 = torchvision.models.vgg16(weights=True)\n",
        "train_option = {}\n",
        "train_option['lr'] = 0.0001\n",
        "train_option['epoch'] = 20\n",
        "train_option['device'] = 'gpu'\n",
        "# vgg16.features[1] = nn.LeakyReLU()\n",
        "# vgg16.classifier[0] = nn.Dropout(0.6)\n",
        "# vgg16.classifier[6] = nn.Linear(4096, 16)\n",
        "\n",
        "# print(vgg16)\n",
        "trainModel(vgg16, trainloader_large, train_option, testloader_large)\n"
      ]
    },
    {
      "cell_type": "markdown",
      "id": "cdf6c77f",
      "metadata": {
        "id": "cdf6c77f"
      },
      "source": [
        "**Answer**:\n",
        "\n",
        "Accuracy on test set:\n"
      ]
    },
    {
      "cell_type": "markdown",
      "id": "090600db",
      "metadata": {
        "id": "090600db"
      },
      "source": [
        "## Submission guidelines\n",
        "---\n",
        "Extract the downloaded .zip file to a folder of your preference. The input and output paths are predefined and **DO NOT** change them, (we assume that 'Surname_Givenname_assignment3_part1' is your working directory, and all the paths are relative to this directory).  The image read and write functions are already written for you. All you need to do is to fill in the blanks as indicated to generate proper outputs. **DO NOT** zip and upload the dataset on canvas due to size limit.\n",
        "\n",
        "When submitting your .zip file through canvas, please\n",
        "-- name your .zip file as **Surname_Givenname_assignment3_part1.zip**.\n",
        "\n",
        "This zip file should include:\n",
        "```\n",
        "Surname_Givenname_UNCCID_assignment3_part1  \n",
        "        |---Surname_Givenname_UNCCID_assignment3_part1.ipynb\n",
        "        |---Surname_Givenname_UNCCID_assignment3_part1.pdf\n",
        "```\n",
        "\n",
        "For instance, student Yann Lecun should submit a zip file named \"Lecun_Yann_111134567_assignment2_part1.zip\" for assignment2_part1 in this structure:\n",
        "```\n",
        "Lecun_Yann_111134567_assignment3_part1\n",
        "        |---Lecun_Yann_111134567_assignment3_part1.ipynb\n",
        "        |---Lecun_Yann_111134567_assignment3_part1.pdf\n",
        "```\n",
        "\n",
        "Then right click this folder, click ***Get shareable link***, in the People textfield, enter TA's emails: ***psingire@uncc.edu*** and ***kchiguru@uncc.edu***. Make sure that TAs who have the link **can edit**, ***not just*** **can view**, and also **uncheck** the **Notify people** box.\n",
        "\n",
        "Note that in google colab, we will only grade the version of the code right before the timestamp of the submission made in canvas. \n",
        "\n",
        "Extract the downloaded .zip file to a folder of your preference. The input and output paths are predefined and **DO NOT** change them, (we assume that 'Surname_Givenname_UNCCID_assignment3' is your working directory, and all the paths are relative to this directory).  The image read and write functions are already written for you. All you need to do is to fill in the blanks as indicated to generate proper outputs.\n",
        "\n",
        "\n",
        "-- DO NOT change the folder structure, please just fill in the blanks. <br>\n",
        "\n",
        "You are encouraged to post and answer questions on Canvas. Please ask questions on Canvas and send emails only for personal issues.\n",
        "\n",
        "If you alter the folder structures, the grading of your homework will be significantly delayed and possibly penalized.\n",
        "\n",
        "Be aware that your code will undergo plagiarism check both vertically and horizontally. Please do your own work.\n",
        "\n",
        "Late submission penalty: <br>\n",
        "There will be a 10% penalty per day for late submission. However, you will have THREE days throughout the whole semester to submit late without penalty. Note that the grace period is calculated by days instead of hours. If you submit the homework one minute after the deadline, one late day will be counted. Likewise, if you submit one minute after the deadline, the 10% penaly will be imposed if not using the grace period.\n"
      ]
    }
  ],
  "metadata": {
    "kernelspec": {
      "display_name": "Python 3",
      "language": "python",
      "name": "python3"
    },
    "language_info": {
      "codemirror_mode": {
        "name": "ipython",
        "version": 3
      },
      "file_extension": ".py",
      "mimetype": "text/x-python",
      "name": "python",
      "nbconvert_exporter": "python",
      "pygments_lexer": "ipython3",
      "version": "3.8.8"
    },
    "colab": {
      "provenance": []
    },
    "accelerator": "GPU",
    "gpuClass": "standard"
  },
  "nbformat": 4,
  "nbformat_minor": 5
}