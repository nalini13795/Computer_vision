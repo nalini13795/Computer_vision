{
 "cells": [
  {
   "cell_type": "markdown",
   "id": "32843fd9",
   "metadata": {},
   "source": [
    "# Face mask detection "
   ]
  },
  {
   "cell_type": "code",
   "execution_count": 1,
   "id": "3e80c855",
   "metadata": {},
   "outputs": [],
   "source": [
    "import os\n",
    "import numpy as np # linear algebra\n",
    "import pandas as pd # data processing, CSV file I/O (e.g. pd.read_csv)\n",
    "\n",
    "import torch\n",
    "import torchvision\n",
    "import seaborn as sns\n",
    "import matplotlib.pyplot as plt\n",
    "import matplotlib.image as mpimg\n",
    "\n",
    "from PIL import Image, ImageDraw\n",
    "import xml.etree.ElementTree as ET\n",
    "import cv2\n",
    "\n",
    "images_dir = './data/images/'\n",
    "annotations_dir = './data/annotations/'"
   ]
  },
  {
   "cell_type": "code",
   "execution_count": null,
   "id": "17026210",
   "metadata": {},
   "outputs": [],
   "source": [
    "print(len())"
   ]
  }
 ],
 "metadata": {
  "kernelspec": {
   "display_name": "Python 3.10.6 64-bit",
   "language": "python",
   "name": "python3"
  },
  "language_info": {
   "codemirror_mode": {
    "name": "ipython",
    "version": 3
   },
   "file_extension": ".py",
   "mimetype": "text/x-python",
   "name": "python",
   "nbconvert_exporter": "python",
   "pygments_lexer": "ipython3",
   "version": "3.10.6"
  },
  "vscode": {
   "interpreter": {
    "hash": "cd10f54745f1a36614bac30fc9d98488d454f57a410e7e8ecb7daf3f6c4e20ae"
   }
  }
 },
 "nbformat": 4,
 "nbformat_minor": 5
}
