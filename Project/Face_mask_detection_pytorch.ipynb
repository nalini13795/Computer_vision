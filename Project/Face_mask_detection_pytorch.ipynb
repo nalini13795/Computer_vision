{
  "cells": [
    {
      "cell_type": "markdown",
      "id": "32843fd9",
      "metadata": {
        "id": "32843fd9"
      },
      "source": [
        "# Face mask detection "
      ]
    },
    {
      "cell_type": "code",
      "execution_count": 1,
      "id": "3e80c855",
      "metadata": {
        "id": "3e80c855"
      },
      "outputs": [],
      "source": [
        "import numpy as np # linear algebra\n",
        "import pandas as pd # data processing, CSV file I/O (e.g. pd.read_csv)\n",
        "\n",
        "import torch\n",
        "import torchvision\n",
        "import seaborn as sns\n",
        "import matplotlib.pyplot as plt\n",
        "import matplotlib.image as mpimg\n",
        "import glob\n",
        "import os\n",
        "\n",
        "from sklearn.model_selection import train_test_split\n",
        "from PIL import Image, ImageDraw\n",
        "import xml.etree.ElementTree as ET\n",
        "import cv2\n",
        "import seaborn as sns\n",
        "import random\n",
        "from torch.autograd import Variable\n",
        "import torch.nn as nn\n",
        "import torch.nn.functional as F"
      ]
    },
    {
      "cell_type": "code",
      "execution_count": 2,
      "id": "k619Xa5ILEKb",
      "metadata": {
        "id": "k619Xa5ILEKb"
      },
      "outputs": [],
      "source": [
        "tain_data_path = './data/train/maksssksksss'\n",
        "test_data_path = './data/test/maksssksksss'\n",
        "data_path = './data/annotations/maksssksksss'\n",
        "class_names = {0:'with_mask', 1:'without_mask', 2:'mask_weared_incorrect'}"
      ]
    },
    {
      "cell_type": "code",
      "execution_count": 3,
      "id": "e4jjyiHYGPuo",
      "metadata": {
        "colab": {
          "base_uri": "https://localhost:8080/"
        },
        "id": "e4jjyiHYGPuo",
        "outputId": "a4cf4f95-06f8-4c4a-b700-ed73c9cc7ee7"
      },
      "outputs": [
        {
          "name": "stdout",
          "output_type": "stream",
          "text": [
            "Mounted at /content/gdrive\n"
          ]
        }
      ],
      "source": [
        "# Mount your google drive where you've saved your assignment folder\n",
        "from google.colab import drive\n",
        "drive.mount('/content/gdrive')"
      ]
    },
    {
      "cell_type": "code",
      "execution_count": 4,
      "id": "1z5S-9biGSiq",
      "metadata": {
        "colab": {
          "base_uri": "https://localhost:8080/"
        },
        "id": "1z5S-9biGSiq",
        "outputId": "669fdbe8-7e8f-4d97-f6a9-a28f9edec00c"
      },
      "outputs": [
        {
          "name": "stdout",
          "output_type": "stream",
          "text": [
            "/content/gdrive/MyDrive/CV/Project\n"
          ]
        }
      ],
      "source": [
        "%cd '/content/gdrive/MyDrive/CV/Project'"
      ]
    },
    {
      "cell_type": "markdown",
      "id": "hgbws5zm6xga",
      "metadata": {
        "id": "hgbws5zm6xga"
      },
      "source": [
        "#Finding bounding boxes and saving it into dataframes"
      ]
    },
    {
      "cell_type": "code",
      "execution_count": 5,
      "id": "17026210",
      "metadata": {
        "id": "17026210"
      },
      "outputs": [],
      "source": [
        "def load_pascal_annotation(filename, index):\n",
        "    \"\"\"\n",
        "    Load image and bounding boxes info from XML file in the PASCAL VOC\n",
        "    format.\n",
        "    \"\"\"\n",
        "    file = os.path.join(data_path + index + '.xml')\n",
        "    filename = 'maksssksksss'+index\n",
        "    tree = ET.parse(file)\n",
        "    root = tree.getroot()\n",
        "    send_obj = {}\n",
        "    arr_send = []\n",
        "    send_obj['width'] = width = int(root.find('size').find('width').text)\n",
        "    send_obj['height'] = height = int(root.find('size').find('height').text)\n",
        "    send_obj['depth'] = depth = int(root.find('size').find('depth').text)\n",
        "    # Load object bounding boxes into a data frame\n",
        "    for obj in root.iter('object'):\n",
        "      send_obj['xmin'] = int(obj.find('bndbox').find('xmin').text)\n",
        "      send_obj['ymin'] = int(obj.find('bndbox').find('ymin').text)\n",
        "      send_obj['xmax'] = int(obj.find('bndbox').find('xmax').text)\n",
        "      send_obj['ymax'] = int(obj.find('bndbox').find('ymax').text)\n",
        "      send_obj['filename'] = filename\n",
        "      send_obj['label'] = obj.find('name').text\n",
        "      send_obj = {}\n",
        "      arr_send.append(send_obj)\n",
        "        \n",
        "    return arr_send\n",
        "\n"
      ]
    },
    {
      "cell_type": "code",
      "execution_count": null,
      "id": "FP_UKpsdNGNP",
      "metadata": {
        "colab": {
          "base_uri": "https://localhost:8080/"
        },
        "id": "FP_UKpsdNGNP",
        "outputId": "a2da3a74-76e8-4ed2-e6b3-093bc97efbd3"
      },
      "outputs": [],
      "source": [
        "\n",
        "dataset = []\n",
        "for ele in range(853):\n",
        "  anno = load_pascal_annotation(tain_data_path, str(ele))\n",
        "  dataset.append(anno)\n",
        "\n",
        "# print(dataset)\n",
        "full_dataset = sum(dataset, [])\n",
        "# print(full_dataset)\n",
        "df = pd.DataFrame(full_dataset)\n",
        "df.shape"
      ]
    },
    {
      "cell_type": "code",
      "execution_count": 7,
      "id": "RkTIxmR0TKzy",
      "metadata": {
        "colab": {
          "base_uri": "https://localhost:8080/"
        },
        "id": "RkTIxmR0TKzy",
        "outputId": "bef08984-2484-41f7-ea89-d372fec366b3"
      },
      "outputs": [
        {
          "data": {
            "text/plain": [
              "with_mask                2534\n",
              "without_mask              598\n",
              "mask_weared_incorrect      87\n",
              "Name: label, dtype: int64"
            ]
          },
          "execution_count": 7,
          "metadata": {},
          "output_type": "execute_result"
        }
      ],
      "source": [
        "df[\"label\"].value_counts()\n"
      ]
    },
    {
      "cell_type": "markdown",
      "id": "UVA0Gjf27cur",
      "metadata": {
        "id": "UVA0Gjf27cur"
      },
      "source": [
        "#Plot showing the number of with_mask, without_mask, mask_weared_incorrect"
      ]
    },
    {
      "cell_type": "code",
      "execution_count": 8,
      "id": "-uFOP80wqTyU",
      "metadata": {
        "colab": {
          "base_uri": "https://localhost:8080/",
          "height": 280
        },
        "id": "-uFOP80wqTyU",
        "outputId": "ba4ca3a1-78bb-4b88-bb8d-327be176838e"
      },
      "outputs": [
        {
          "data": {
            "image/png": "[encoded data removed]",
            "text/plain": [
              "<Figure size 432x288 with 1 Axes>"
            ]
          },
          "metadata": {},
          "output_type": "display_data"
        }
      ],
      "source": [
        "sns.countplot(x=df[\"label\"])\n",
        "plt.show()\n"
      ]
    },
    {
      "cell_type": "code",
      "execution_count": 9,
      "id": "TC4FQWM9HV3R",
      "metadata": {
        "id": "TC4FQWM9HV3R"
      },
      "outputs": [],
      "source": [
        "def load_data(path, img_size, num_files, batch_size=16, shuffle=False, augment=False, is_color=False, zero_centered=False): \n",
        "\n",
        "  data = []\n",
        "  labels = []\n",
        "  for i in range(num_files[0],num_files[1]):\n",
        "    img = Image.open(path + str(i) + '.png')\n",
        "    img_arr = np.array(img)\n",
        "    img_input = df.loc[df['filename'] == 'maksssksksss' + str(i)]\n",
        "    for ind in img_input.index:\n",
        "      img_cropped = img_arr[int(img_input['ymin'][ind]):int(img_input['ymax'][ind]), int(img_input['xmin'][ind]):int(img_input['xmax'][ind]), :3]\n",
        "      resized_img = cv2.resize(img_cropped, img_size, cv2.INTER_LINEAR)\n",
        "      img = np.transpose(resized_img, [2, 0, 1])\n",
        "      data.append(img.astype(np.float)/255*2-1)\n",
        "      if(img_input['label'][ind] == 'with_mask'):\n",
        "        labels.append(0)\n",
        "      elif(img_input['label'][ind] == 'without_mask'):\n",
        "        labels.append(1)\n",
        "      else:\n",
        "        labels.append(2)\n",
        "\n",
        "  print(len(data))\n",
        "  print(len(labels))\n",
        "  if augment: \n",
        "          for i in range(len(data)):\n",
        "            flip_img = cv2.flip(data[i], 1)\n",
        "            data.append(flip_img)\n",
        "            labels.append(labels[i])\n",
        "\n",
        "  if zero_centered:\n",
        "      mean = np.mean(data, axis=0)\n",
        "      for index in range(len(data)):\n",
        "        data[index]-= mean\n",
        "\n",
        "  # randomly permute (this step is important for training)\n",
        "  if shuffle:\n",
        "      bundle = list(zip(data, labels))\n",
        "      random.shuffle(bundle)\n",
        "      data, labels = zip(*bundle)\n",
        "  \n",
        "  # divide data into minibatches of TorchTensors\n",
        "  if batch_size > 1:\n",
        "      batch_data = []\n",
        "      batch_labels = []\n",
        "      \n",
        "      for i in range(int(len(data) / batch_size)):\n",
        "          minibatch_d = data[i*batch_size: (i+1)*batch_size]\n",
        "          minibatch_d = np.reshape(minibatch_d, (batch_size, 3, img_size[0], img_size[1]))\n",
        "          batch_data.append(torch.from_numpy(minibatch_d))\n",
        "\n",
        "          minibatch_l = labels[i*batch_size: (i+1)*batch_size]\n",
        "          batch_labels.append(torch.LongTensor(minibatch_l))\n",
        "      data, labels = batch_data, batch_labels \n",
        "  \n",
        "  return zip(batch_data, batch_labels)\n",
        "\n"
      ]
    },
    {
      "cell_type": "code",
      "execution_count": 10,
      "id": "TkLsQmhTYh5q",
      "metadata": {
        "id": "TkLsQmhTYh5q"
      },
      "outputs": [],
      "source": [
        "# load data into size (64, 64)\n",
        "img_size = (64, 64)\n",
        "batch_size = 64 # training sample number per batch\n",
        "train_range = [0,801]\n",
        "test_range = [801,853]\n"
      ]
    },
    {
      "cell_type": "code",
      "execution_count": 11,
      "id": "tIo-ISERbK3U",
      "metadata": {
        "colab": {
          "base_uri": "https://localhost:8080/"
        },
        "id": "tIo-ISERbK3U",
        "outputId": "dd504deb-0f6b-4915-eab2-b36eef9b9d54"
      },
      "outputs": [
        {
          "name": "stderr",
          "output_type": "stream",
          "text": [
            "/usr/local/lib/python3.7/dist-packages/ipykernel_launcher.py:13: DeprecationWarning: `np.float` is a deprecated alias for the builtin `float`. To silence this warning, use `float` by itself. Doing this will not modify any behavior and is safe. If you specifically wanted the numpy scalar type, use `np.float64` here.\n",
            "Deprecated in NumPy 1.20; for more details and guidance: https://numpy.org/devdocs/release/1.20.0-notes.html#deprecations\n",
            "  del sys.path[0]\n"
          ]
        },
        {
          "name": "stdout",
          "output_type": "stream",
          "text": [
            "3079\n",
            "3079\n",
            "Finish loading 48 minibatches (batch_size=64) of training samples.\n"
          ]
        }
      ],
      "source": [
        "# load training dataset\n",
        "trainloader_small = list(load_data(tain_data_path, img_size, train_range, batch_size=batch_size, shuffle=True))\n",
        "train_num = len(trainloader_small)\n",
        "print(\"Finish loading %d minibatches (batch_size=%d) of training samples.\" % (train_num, batch_size))\n"
      ]
    },
    {
      "cell_type": "code",
      "execution_count": 12,
      "id": "egI8_JTkbMaV",
      "metadata": {
        "colab": {
          "base_uri": "https://localhost:8080/"
        },
        "id": "egI8_JTkbMaV",
        "outputId": "d2687f53-9d99-4ae1-cd9b-fa25acfa5b83"
      },
      "outputs": [
        {
          "name": "stderr",
          "output_type": "stream",
          "text": [
            "/usr/local/lib/python3.7/dist-packages/ipykernel_launcher.py:13: DeprecationWarning: `np.float` is a deprecated alias for the builtin `float`. To silence this warning, use `float` by itself. Doing this will not modify any behavior and is safe. If you specifically wanted the numpy scalar type, use `np.float64` here.\n",
            "Deprecated in NumPy 1.20; for more details and guidance: https://numpy.org/devdocs/release/1.20.0-notes.html#deprecations\n",
            "  del sys.path[0]\n"
          ]
        },
        {
          "name": "stdout",
          "output_type": "stream",
          "text": [
            "140\n",
            "140\n",
            "Finish loading 2 minibatches (batch_size=64) of testing samples.\n"
          ]
        }
      ],
      "source": [
        "\n",
        "# load testing dataset\n",
        "testloader_small = list(load_data(test_data_path, img_size, test_range, batch_size=batch_size))\n",
        "test_num = len(testloader_small)\n",
        "print(\"Finish loading %d minibatches (batch_size=%d) of testing samples.\" % (test_num, batch_size))"
      ]
    },
    {
      "cell_type": "code",
      "execution_count": 13,
      "id": "RugAMHYpSgss",
      "metadata": {
        "colab": {
          "base_uri": "https://localhost:8080/",
          "height": 286
        },
        "id": "RugAMHYpSgss",
        "outputId": "2555c8ac-8657-4238-cb69-eab6afddd007"
      },
      "outputs": [
        {
          "name": "stdout",
          "output_type": "stream",
          "text": [
            "with_mask\n"
          ]
        },
        {
          "data": {
            "image/png": "[encoded data removed]",
            "text/plain": [
              "<Figure size 432x288 with 1 Axes>"
            ]
          },
          "metadata": {
            "needs_background": "light"
          },
          "output_type": "display_data"
        }
      ],
      "source": [
        "# show some images\n",
        "def imshow(img):\n",
        "    img = img / 2 + 0.5     # unnormalize\n",
        "    npimg = img.numpy()\n",
        "    if len(npimg.shape) > 2:\n",
        "        npimg = np.transpose(img, [1, 2, 0])\n",
        "    plt.figure\n",
        "    plt.imshow(npimg, 'gray')\n",
        "    plt.show()\n",
        "img, label = trainloader_small[0][0][38][0], trainloader_small[0][1][38]\n",
        "label = int(np.array(label))\n",
        "print(class_names[label])\n",
        "imshow(img)"
      ]
    },
    {
      "cell_type": "code",
      "execution_count": 14,
      "id": "yx-mh37Bc16d",
      "metadata": {
        "id": "yx-mh37Bc16d"
      },
      "outputs": [],
      "source": [
        "#--------------------------------------------------\n",
        "#       Model Training Function\n",
        "#--------------------------------------------------\n",
        "import torch.optim as optim\n",
        "import time\n",
        "  \n",
        "def trainModel(net, trainloader, train_option, testloader=None):  \n",
        "  loss_func = nn.CrossEntropyLoss()\n",
        "  lr = train_option['lr']\n",
        "  epoch = train_option['epoch']\n",
        "  device = train_option['device'] if 'device' in train_option.keys() else 'cpu'\n",
        "  log_iter = train_option['log_iter'] if 'log_iter' in train_option.keys() else 20\n",
        "  eval_epoch = 1\n",
        "  running_loss = 0.0\n",
        "  loss_arr = []\n",
        "  accuracy = []\n",
        "  \n",
        "  if 'optimizer' in train_option.keys():\n",
        "    optimizer = train_option['optimizer']\n",
        "  else:\n",
        "    optimizer = optim.Adam(net.parameters(), lr=lr)\n",
        "\n",
        "  start_time = time.time()\n",
        "  if device == 'gpu':\n",
        "    net = net.cuda()\n",
        "    \n",
        "  iters = 0\n",
        "  running_loss = 0.0\n",
        "  for ep in range(epoch):\n",
        "    net.train()        \n",
        "    for iter, (x, y) in enumerate(trainloader):\n",
        "      iters += 1\n",
        "      batch_x = Variable(x).float()\n",
        "      batch_y = Variable(y).long()\n",
        "      if device == 'gpu':\n",
        "        batch_x = batch_x.cuda()\n",
        "        batch_y = batch_y.cuda()\n",
        "\n",
        "      outputs = net(batch_x)\n",
        "      loss = loss_func(outputs, batch_y)\n",
        "      optimizer.zero_grad()\n",
        "      loss.backward()\n",
        "      optimizer.step()\n",
        "      running_loss += loss.item()\n",
        "      \n",
        "      time_lapse = time.strftime('%H:%M:%S', time.gmtime(time.time() - start_time))\n",
        "      if iter % log_iter == 0:\n",
        "        print('Epoch:{:2d} | Iter:{:5d} | Time: {} | Train Loss: {:.4f} | Average Loss: {:.4f} '.format(ep+1, iter, time_lapse, loss.item(), running_loss/iters)) \n",
        "        loss_arr.append(running_loss/iters)\n",
        "   \n",
        "    if testloader is not None and ep % eval_epoch == 0:\n",
        "      acc = evalModel(net, testloader)\n",
        "      accuracy.append(acc)\n",
        "  return loss_arr, accuracy"
      ]
    },
    {
      "cell_type": "code",
      "execution_count": 15,
      "id": "J-jLoq_6dNXp",
      "metadata": {
        "id": "J-jLoq_6dNXp"
      },
      "outputs": [],
      "source": [
        "#--------------------------------------------------\n",
        "#       Model Evaluating Function\n",
        "#--------------------------------------------------\n",
        "import time\n",
        "  \n",
        "def evalModel(net, testloader): \n",
        "  acc = 0.0\n",
        "  count = 0\n",
        "  start_time = time.time()\n",
        "  device = 'gpu' if next(net.parameters()).is_cuda else 'cpu'\n",
        "  net.eval()\n",
        "  \n",
        "  for iter, (x, y) in enumerate(testloader):\n",
        "        count += x.shape[0]\n",
        "        batch_x = Variable(x).float()\n",
        "        batch_y = Variable(y).long()\n",
        "        if device == 'gpu':\n",
        "          batch_x = batch_x.cuda()\n",
        "          batch_y = batch_y.cuda()\n",
        "        outputs = net(batch_x)\n",
        "        acc += torch.sum(outputs.max(1)[1]==batch_y)\n",
        "        \n",
        "  time_lapse = time.strftime('%H:%M:%S', time.gmtime(time.time() - start_time))        \n",
        "  print('Accuracy: {:5f} | Time: {}'.format(acc/count,time_lapse))\n",
        "  return(float(acc/count))"
      ]
    },
    {
      "cell_type": "code",
      "execution_count": 18,
      "id": "PywADFMHczWI",
      "metadata": {
        "id": "PywADFMHczWI"
      },
      "outputs": [],
      "source": [
        "#--------------------------------------------------\n",
        "#       Define Network Architecture\n",
        "#--------------------------------------------------\n",
        "class TNet(nn.Module):\n",
        "    def __init__(self):\n",
        "      super(TNet,self).__init__()  \n",
        "           \n",
        "      self.features = torch.nn.Sequential(\n",
        "        nn.Conv2d(3, 16, 3),\n",
        "        nn.ReLU(),\n",
        "        nn.MaxPool2d(4, stride=4), \n",
        "      )\n",
        "      \n",
        "      self.classifier = nn.Sequential(\n",
        "         nn.Linear(3600, 16), \n",
        "      )\n",
        "      \n",
        "    def forward(self, x):\n",
        "      x = self.features(x)  \n",
        "      x = torch.flatten(x, 1)\n",
        "      x = self.classifier(x)\n",
        "      return x  "
      ]
    },
    {
      "cell_type": "code",
      "execution_count": 19,
      "id": "qvoIwAiIdPeD",
      "metadata": {
        "colab": {
          "base_uri": "https://localhost:8080/"
        },
        "id": "qvoIwAiIdPeD",
        "outputId": "322f91f5-8da2-4b54-cd50-3ce223188402"
      },
      "outputs": [
        {
          "name": "stdout",
          "output_type": "stream",
          "text": [
            "Epoch: 1 | Iter:    0 | Time: 00:00:10 | Train Loss: 2.8726 | Average Loss: 2.8726 \n",
            "Epoch: 1 | Iter:   20 | Time: 00:00:11 | Train Loss: 0.2234 | Average Loss: 0.5750 \n",
            "Epoch: 1 | Iter:   40 | Time: 00:00:11 | Train Loss: 0.3410 | Average Loss: 0.4295 \n",
            "Accuracy: 0.953125 | Time: 00:00:00\n",
            "Epoch: 2 | Iter:    0 | Time: 00:00:11 | Train Loss: 0.2788 | Average Loss: 0.4023 \n",
            "Epoch: 2 | Iter:   20 | Time: 00:00:11 | Train Loss: 0.2161 | Average Loss: 0.3484 \n",
            "Epoch: 2 | Iter:   40 | Time: 00:00:11 | Train Loss: 0.2569 | Average Loss: 0.3157 \n",
            "Accuracy: 0.914062 | Time: 00:00:00\n",
            "Epoch: 3 | Iter:    0 | Time: 00:00:11 | Train Loss: 0.2471 | Average Loss: 0.3091 \n",
            "Epoch: 3 | Iter:   20 | Time: 00:00:11 | Train Loss: 0.2197 | Average Loss: 0.2890 \n",
            "Epoch: 3 | Iter:   40 | Time: 00:00:11 | Train Loss: 0.2340 | Average Loss: 0.2731 \n",
            "Accuracy: 0.929688 | Time: 00:00:00\n",
            "Epoch: 4 | Iter:    0 | Time: 00:00:11 | Train Loss: 0.1904 | Average Loss: 0.2702 \n",
            "Epoch: 4 | Iter:   20 | Time: 00:00:11 | Train Loss: 0.2017 | Average Loss: 0.2584 \n",
            "Epoch: 4 | Iter:   40 | Time: 00:00:11 | Train Loss: 0.2395 | Average Loss: 0.2488 \n",
            "Accuracy: 0.937500 | Time: 00:00:00\n",
            "Epoch: 5 | Iter:    0 | Time: 00:00:11 | Train Loss: 0.1704 | Average Loss: 0.2467 \n",
            "Epoch: 5 | Iter:   20 | Time: 00:00:11 | Train Loss: 0.1984 | Average Loss: 0.2387 \n",
            "Epoch: 5 | Iter:   40 | Time: 00:00:11 | Train Loss: 0.2165 | Average Loss: 0.2317 \n",
            "Accuracy: 0.937500 | Time: 00:00:00\n",
            "Epoch: 6 | Iter:    0 | Time: 00:00:11 | Train Loss: 0.1464 | Average Loss: 0.2299 \n",
            "Epoch: 6 | Iter:   20 | Time: 00:00:11 | Train Loss: 0.2098 | Average Loss: 0.2241 \n",
            "Epoch: 6 | Iter:   40 | Time: 00:00:12 | Train Loss: 0.1929 | Average Loss: 0.2190 \n",
            "Accuracy: 0.945312 | Time: 00:00:00\n",
            "Epoch: 7 | Iter:    0 | Time: 00:00:12 | Train Loss: 0.1080 | Average Loss: 0.2175 \n",
            "Epoch: 7 | Iter:   20 | Time: 00:00:12 | Train Loss: 0.2309 | Average Loss: 0.2128 \n",
            "Epoch: 7 | Iter:   40 | Time: 00:00:12 | Train Loss: 0.1771 | Average Loss: 0.2088 \n",
            "Accuracy: 0.937500 | Time: 00:00:00\n",
            "Epoch: 8 | Iter:    0 | Time: 00:00:12 | Train Loss: 0.0898 | Average Loss: 0.2075 \n",
            "Epoch: 8 | Iter:   20 | Time: 00:00:12 | Train Loss: 0.2254 | Average Loss: 0.2033 \n",
            "Epoch: 8 | Iter:   40 | Time: 00:00:12 | Train Loss: 0.1643 | Average Loss: 0.1997 \n",
            "Accuracy: 0.929688 | Time: 00:00:00\n",
            "Epoch: 9 | Iter:    0 | Time: 00:00:12 | Train Loss: 0.0802 | Average Loss: 0.1985 \n",
            "Epoch: 9 | Iter:   20 | Time: 00:00:12 | Train Loss: 0.2194 | Average Loss: 0.1949 \n",
            "Epoch: 9 | Iter:   40 | Time: 00:00:12 | Train Loss: 0.1500 | Average Loss: 0.1918 \n",
            "Accuracy: 0.937500 | Time: 00:00:00\n",
            "Epoch:10 | Iter:    0 | Time: 00:00:12 | Train Loss: 0.0716 | Average Loss: 0.1908 \n",
            "Epoch:10 | Iter:   20 | Time: 00:00:12 | Train Loss: 0.2114 | Average Loss: 0.1876 \n",
            "Epoch:10 | Iter:   40 | Time: 00:00:12 | Train Loss: 0.1365 | Average Loss: 0.1848 \n",
            "Accuracy: 0.929688 | Time: 00:00:00\n",
            "Epoch:11 | Iter:    0 | Time: 00:00:12 | Train Loss: 0.0652 | Average Loss: 0.1839 \n",
            "Epoch:11 | Iter:   20 | Time: 00:00:12 | Train Loss: 0.2049 | Average Loss: 0.1810 \n",
            "Epoch:11 | Iter:   40 | Time: 00:00:12 | Train Loss: 0.1250 | Average Loss: 0.1786 \n",
            "Accuracy: 0.929688 | Time: 00:00:00\n",
            "Epoch:12 | Iter:    0 | Time: 00:00:12 | Train Loss: 0.0590 | Average Loss: 0.1777 \n",
            "Epoch:12 | Iter:   20 | Time: 00:00:12 | Train Loss: 0.1985 | Average Loss: 0.1751 \n",
            "Epoch:12 | Iter:   40 | Time: 00:00:13 | Train Loss: 0.1147 | Average Loss: 0.1729 \n",
            "Accuracy: 0.929688 | Time: 00:00:00\n",
            "Epoch:13 | Iter:    0 | Time: 00:00:13 | Train Loss: 0.0534 | Average Loss: 0.1721 \n",
            "Epoch:13 | Iter:   20 | Time: 00:00:13 | Train Loss: 0.1906 | Average Loss: 0.1698 \n",
            "Epoch:13 | Iter:   40 | Time: 00:00:13 | Train Loss: 0.1084 | Average Loss: 0.1677 \n",
            "Accuracy: 0.929688 | Time: 00:00:00\n",
            "Epoch:14 | Iter:    0 | Time: 00:00:13 | Train Loss: 0.0489 | Average Loss: 0.1670 \n",
            "Epoch:14 | Iter:   20 | Time: 00:00:13 | Train Loss: 0.1840 | Average Loss: 0.1648 \n",
            "Epoch:14 | Iter:   40 | Time: 00:00:13 | Train Loss: 0.1018 | Average Loss: 0.1629 \n",
            "Accuracy: 0.929688 | Time: 00:00:00\n",
            "Epoch:15 | Iter:    0 | Time: 00:00:13 | Train Loss: 0.0448 | Average Loss: 0.1623 \n",
            "Epoch:15 | Iter:   20 | Time: 00:00:13 | Train Loss: 0.1747 | Average Loss: 0.1603 \n",
            "Epoch:15 | Iter:   40 | Time: 00:00:13 | Train Loss: 0.0977 | Average Loss: 0.1585 \n",
            "Accuracy: 0.929688 | Time: 00:00:00\n",
            "Epoch:16 | Iter:    0 | Time: 00:00:13 | Train Loss: 0.0414 | Average Loss: 0.1579 \n",
            "Epoch:16 | Iter:   20 | Time: 00:00:13 | Train Loss: 0.1702 | Average Loss: 0.1561 \n",
            "Epoch:16 | Iter:   40 | Time: 00:00:13 | Train Loss: 0.0927 | Average Loss: 0.1545 \n",
            "Accuracy: 0.937500 | Time: 00:00:00\n",
            "Epoch:17 | Iter:    0 | Time: 00:00:13 | Train Loss: 0.0377 | Average Loss: 0.1539 \n",
            "Epoch:17 | Iter:   20 | Time: 00:00:13 | Train Loss: 0.1572 | Average Loss: 0.1522 \n",
            "Epoch:17 | Iter:   40 | Time: 00:00:13 | Train Loss: 0.0892 | Average Loss: 0.1507 \n",
            "Accuracy: 0.929688 | Time: 00:00:00\n",
            "Epoch:18 | Iter:    0 | Time: 00:00:13 | Train Loss: 0.0354 | Average Loss: 0.1502 \n",
            "Epoch:18 | Iter:   20 | Time: 00:00:13 | Train Loss: 0.1514 | Average Loss: 0.1486 \n",
            "Epoch:18 | Iter:   40 | Time: 00:00:14 | Train Loss: 0.0849 | Average Loss: 0.1472 \n",
            "Accuracy: 0.929688 | Time: 00:00:00\n",
            "Epoch:19 | Iter:    0 | Time: 00:00:14 | Train Loss: 0.0324 | Average Loss: 0.1467 \n",
            "Epoch:19 | Iter:   20 | Time: 00:00:14 | Train Loss: 0.1376 | Average Loss: 0.1452 \n",
            "Epoch:19 | Iter:   40 | Time: 00:00:14 | Train Loss: 0.0813 | Average Loss: 0.1439 \n",
            "Accuracy: 0.929688 | Time: 00:00:00\n",
            "Epoch:20 | Iter:    0 | Time: 00:00:14 | Train Loss: 0.0306 | Average Loss: 0.1434 \n",
            "Epoch:20 | Iter:   20 | Time: 00:00:14 | Train Loss: 0.1307 | Average Loss: 0.1420 \n",
            "Epoch:20 | Iter:   40 | Time: 00:00:14 | Train Loss: 0.0776 | Average Loss: 0.1408 \n",
            "Accuracy: 0.929688 | Time: 00:00:00\n",
            "[0.953125, 0.9140625, 0.9296875, 0.9375, 0.9375, 0.9453125, 0.9375, 0.9296875, 0.9375, 0.9296875, 0.9296875, 0.9296875, 0.9296875, 0.9296875, 0.9296875, 0.9375, 0.9296875, 0.9296875, 0.9296875, 0.9296875]\n",
            "[2.872554302215576, 0.5749845263503847, 0.42953638605228284, 0.40228647921158345, 0.3483849407538124, 0.31570559166622963, 0.3090870623505607, 0.28898936169397116, 0.2731338189303005, 0.2701751093669184, 0.2583694570218072, 0.24879070459990887, 0.24673078595202202, 0.2387159517288488, 0.23169015909149412, 0.22993524723466008, 0.2240820885903534, 0.2189782102628747, 0.21748165687011187, 0.21278224893902883, 0.20879928968099476, 0.20748485436867536, 0.20330966668886966, 0.19969699407287872, 0.1985266748573873, 0.19491706010368134, 0.1917958496072713, 0.19075234900239432, 0.1875756797658292, 0.1848158245752654, 0.1838744029464692, 0.1810459285758867, 0.1785559233192233, 0.17769462806445552, 0.17514625720625476, 0.17287237452496962, 0.17208551803032385, 0.16977465519965493, 0.16768686457671456, 0.16696832908093928, 0.16484935173634874, 0.16292555152361554, 0.16226807771939758, 0.16031023296883698, 0.1585425333776949, 0.1579399308171666, 0.156113646409189, 0.1544733184258822, 0.15390962295195448, 0.15220831529590265, 0.15068884397890275, 0.15017277723910102, 0.14856622241473041, 0.14715774142799537, 0.14666508992197197, 0.14516967916387621, 0.14386999588356822, 0.1434078783751644, 0.14199912109255536, 0.14079605779197196]\n"
          ]
        }
      ],
      "source": [
        "#--------------------------------------------------\n",
        "#       Start Training & Evaluation\n",
        "#--------------------------------------------------\n",
        "net = TNet() \n",
        "train_option = {}\n",
        "train_option['lr'] = 0.002\n",
        "train_option['epoch'] = 20\n",
        "train_option['device'] = 'gpu'\n",
        "loss, acc = trainModel(net, trainloader_small, train_option, testloader_small)\n",
        "print(acc)\n",
        "print(loss)"
      ]
    },
    {
      "cell_type": "code",
      "execution_count": null,
      "id": "KsJLz6828eEM",
      "metadata": {
        "id": "KsJLz6828eEM"
      },
      "outputs": [],
      "source": [
        "def plot_graph(array_plot):\n",
        "  f = plt.figure()\n",
        "  f.set_figwidth(12)\n",
        "  f.set_figheight(6)\n",
        "  plt.clf()\n",
        "  sns.lineplot(range(len(array_plot)), array_plot, label=\"Training loss\")\n",
        "  plt.title(\"Training loss\")\n",
        "  plt.xlabel(\"Epochs\")\n",
        "  plt.ylabel(\"Accuracy\")\n",
        "  plt.legend()\n",
        "  plt.show()"
      ]
    },
    {
      "cell_type": "code",
      "execution_count": null,
      "id": "BBG8fAx8LFJe",
      "metadata": {
        "id": "BBG8fAx8LFJe"
      },
      "outputs": [],
      "source": [
        "plot_graph(loss)"
      ]
    },
    {
      "cell_type": "code",
      "execution_count": null,
      "id": "jDJC_X4BPiWn",
      "metadata": {
        "id": "jDJC_X4BPiWn"
      },
      "outputs": [],
      "source": [
        "plot_graph(acc)"
      ]
    },
    {
      "cell_type": "code",
      "execution_count": null,
      "id": "uHkGp606TeYw",
      "metadata": {
        "id": "uHkGp606TeYw"
      },
      "outputs": [],
      "source": [
        "# Specify a path\n",
        "PATH = \"./entire_model.pt\"\n",
        "# Save\n",
        "torch.save(net, PATH)\n",
        " \n",
        "# Load\n",
        "model = torch.load(PATH)\n",
        "model.eval()"
      ]
    }
  ],
  "metadata": {
    "accelerator": "GPU",
    "colab": {
      "provenance": []
    },
    "gpuClass": "standard",
    "kernelspec": {
      "display_name": "Python 3.10.6 64-bit",
      "language": "python",
      "name": "python3"
    },
    "language_info": {
      "codemirror_mode": {
        "name": "ipython",
        "version": 3
      },
      "file_extension": ".py",
      "mimetype": "text/x-python",
      "name": "python",
      "nbconvert_exporter": "python",
      "pygments_lexer": "ipython3",
      "version": "3.10.6"
    },
    "vscode": {
      "interpreter": {
        "hash": "cd10f54745f1a36614bac30fc9d98488d454f57a410e7e8ecb7daf3f6c4e20ae"
      }
    }
  },
  "nbformat": 4,
  "nbformat_minor": 5
}
