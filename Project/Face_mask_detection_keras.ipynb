{
  "cells": [
    {
      "cell_type": "markdown",
      "id": "32843fd9",
      "metadata": {
        "id": "32843fd9"
      },
      "source": [
        "# Face mask detection "
      ]
    },
    {
      "cell_type": "code",
      "execution_count": 41,
      "id": "3e80c855",
      "metadata": {
        "id": "3e80c855"
      },
      "outputs": [],
      "source": [
        "import numpy as np # linear algebra\n",
        "import pandas as pd # data processing, CSV file I/O (e.g. pd.read_csv)\n",
        "\n",
        "import torch\n",
        "import torchvision\n",
        "import seaborn as sns\n",
        "import matplotlib.pyplot as plt\n",
        "import matplotlib.image as mpimg\n",
        "import glob\n",
        "import os\n",
        "\n",
        "from sklearn.model_selection import train_test_split\n",
        "from PIL import Image, ImageDraw\n",
        "import xml.etree.ElementTree as ET\n",
        "import cv2\n",
        "import seaborn as sns\n",
        "import random\n",
        "from torch.autograd import Variable\n",
        "import torch.nn as nn\n",
        "import torch.nn.functional as F\n",
        "from keras.utils import np_utils\n",
        "from keras.models import Sequential\n",
        "from keras.layers import Dense,Activation,Flatten,Dropout\n",
        "from keras.layers import Conv2D,MaxPooling2D\n",
        "from keras.callbacks import ModelCheckpoint"
      ]
    },
    {
      "cell_type": "code",
      "execution_count": 14,
      "id": "k619Xa5ILEKb",
      "metadata": {
        "id": "k619Xa5ILEKb"
      },
      "outputs": [],
      "source": [
        "img_path = './data/images/maksssksksss'\n",
        "anno_path = './data/annotations/maksssksksss'\n",
        "class_names = {0:'with_mask', 1:'without_mask', 2:'mask_weared_incorrect'}"
      ]
    },
    {
      "cell_type": "code",
      "execution_count": 3,
      "id": "e4jjyiHYGPuo",
      "metadata": {
        "colab": {
          "base_uri": "https://localhost:8080/"
        },
        "id": "e4jjyiHYGPuo",
        "outputId": "a4cf4f95-06f8-4c4a-b700-ed73c9cc7ee7"
      },
      "outputs": [
        {
          "name": "stdout",
          "output_type": "stream",
          "text": [
            "Mounted at /content/gdrive\n"
          ]
        }
      ],
      "source": [
        "# Mount your google drive where you've saved your assignment folder\n",
        "from google.colab import drive\n",
        "drive.mount('/content/gdrive')"
      ]
    },
    {
      "cell_type": "code",
      "execution_count": null,
      "id": "1z5S-9biGSiq",
      "metadata": {
        "colab": {
          "base_uri": "https://localhost:8080/"
        },
        "id": "1z5S-9biGSiq",
        "outputId": "669fdbe8-7e8f-4d97-f6a9-a28f9edec00c"
      },
      "outputs": [],
      "source": [
        "cd '/content/gdrive/MyDrive/CV/Project'"
      ]
    },
    {
      "cell_type": "markdown",
      "id": "hgbws5zm6xga",
      "metadata": {
        "id": "hgbws5zm6xga"
      },
      "source": [
        "#Finding bounding boxes and saving it into dataframes"
      ]
    },
    {
      "cell_type": "code",
      "execution_count": 25,
      "id": "17026210",
      "metadata": {
        "id": "17026210"
      },
      "outputs": [],
      "source": [
        "def load_pascal_annotation(filename, index):\n",
        "    \"\"\"\n",
        "    Load image and bounding boxes info from XML file in the PASCAL VOC\n",
        "    format.\n",
        "    \"\"\"\n",
        "    file = os.path.join(anno_path + index + '.xml')\n",
        "    filename = 'maksssksksss'+index\n",
        "    tree = ET.parse(file)\n",
        "    root = tree.getroot()\n",
        "    send_obj = {}\n",
        "    arr_send = []\n",
        "    send_obj['width'] = width = int(root.find('size').find('width').text)\n",
        "    send_obj['height'] = height = int(root.find('size').find('height').text)\n",
        "    send_obj['depth'] = depth = int(root.find('size').find('depth').text)\n",
        "    # Load object bounding boxes into a data frame\n",
        "    for obj in root.iter('object'):\n",
        "      send_obj['xmin'] = int(obj.find('bndbox').find('xmin').text)\n",
        "      send_obj['ymin'] = int(obj.find('bndbox').find('ymin').text)\n",
        "      send_obj['xmax'] = int(obj.find('bndbox').find('xmax').text)\n",
        "      send_obj['ymax'] = int(obj.find('bndbox').find('ymax').text)\n",
        "      send_obj['filename'] = filename\n",
        "      send_obj['label'] = obj.find('name').text\n",
        "      send_obj = {}\n",
        "      arr_send.append(send_obj)\n",
        "        \n",
        "    return arr_send\n",
        "\n"
      ]
    },
    {
      "cell_type": "code",
      "execution_count": 26,
      "id": "FP_UKpsdNGNP",
      "metadata": {
        "colab": {
          "base_uri": "https://localhost:8080/"
        },
        "id": "FP_UKpsdNGNP",
        "outputId": "a2da3a74-76e8-4ed2-e6b3-093bc97efbd3"
      },
      "outputs": [
        {
          "data": {
            "text/plain": [
              "(4072, 6)"
            ]
          },
          "execution_count": 26,
          "metadata": {},
          "output_type": "execute_result"
        }
      ],
      "source": [
        "\n",
        "dataset = []\n",
        "for ele in range(853):\n",
        "  anno = load_pascal_annotation(anno_path, str(ele))\n",
        "  dataset.append(anno)\n",
        "\n",
        "# print(dataset)\n",
        "full_dataset = sum(dataset, [])\n",
        "# print(full_dataset)\n",
        "df = pd.DataFrame(full_dataset)\n",
        "df.shape"
      ]
    },
    {
      "cell_type": "code",
      "execution_count": 16,
      "id": "RkTIxmR0TKzy",
      "metadata": {
        "colab": {
          "base_uri": "https://localhost:8080/"
        },
        "id": "RkTIxmR0TKzy",
        "outputId": "bef08984-2484-41f7-ea89-d372fec366b3"
      },
      "outputs": [
        {
          "data": {
            "text/plain": [
              "with_mask                2534\n",
              "without_mask              598\n",
              "mask_weared_incorrect      87\n",
              "Name: label, dtype: int64"
            ]
          },
          "execution_count": 16,
          "metadata": {},
          "output_type": "execute_result"
        }
      ],
      "source": [
        "df[\"label\"].value_counts()\n"
      ]
    },
    {
      "cell_type": "markdown",
      "id": "UVA0Gjf27cur",
      "metadata": {
        "id": "UVA0Gjf27cur"
      },
      "source": [
        "#Plot showing the number of with_mask, without_mask, mask_weared_incorrect"
      ]
    },
    {
      "cell_type": "code",
      "execution_count": 17,
      "id": "-uFOP80wqTyU",
      "metadata": {
        "colab": {
          "base_uri": "https://localhost:8080/",
          "height": 280
        },
        "id": "-uFOP80wqTyU",
        "outputId": "ba4ca3a1-78bb-4b88-bb8d-327be176838e"
      },
      "outputs": [
        {
          "data": {
            "image/png": "[encoded data removed]",
            "text/plain": [
              "<Figure size 640x480 with 1 Axes>"
            ]
          },
          "metadata": {},
          "output_type": "display_data"
        }
      ],
      "source": [
        "sns.countplot(x=df[\"label\"])\n",
        "plt.show()\n"
      ]
    },
    {
      "cell_type": "code",
      "execution_count": 33,
      "id": "TC4FQWM9HV3R",
      "metadata": {
        "id": "TC4FQWM9HV3R"
      },
      "outputs": [],
      "source": [
        "def load_data(path, img_size, num_files): \n",
        "\n",
        "  data = []\n",
        "  labels = []\n",
        "  for i in range(num_files[0],num_files[1]):\n",
        "    img = Image.open(path + str(i) + '.png')\n",
        "    img_arr = np.array(img)\n",
        "    img_input = df.loc[df['filename'] == 'maksssksksss' + str(i)]\n",
        "    for ind in img_input.index:\n",
        "      img_cropped = img_arr[int(img_input['ymin'][ind]):int(img_input['ymax'][ind]), int(img_input['xmin'][ind]):int(img_input['xmax'][ind]), :3]\n",
        "      resized_img = cv2.resize(img_cropped, img_size, cv2.INTER_LINEAR)\n",
        "      gray=cv2.cvtColor(resized_img,cv2.COLOR_BGR2GRAY) \n",
        "      data.append(gray)\n",
        "      if(img_input['label'][ind] == 'with_mask'):\n",
        "        labels.append(0)\n",
        "      elif(img_input['label'][ind] == 'without_mask'):\n",
        "        labels.append(1)\n",
        "      else:\n",
        "        labels.append(2)\n",
        "\n",
        "  data=np.array(data)/255.0\n",
        "  data=np.reshape(data,(data.shape[0],img_size[0],img_size[1],1))\n",
        "  labels=np.array(labels)\n",
        "  return data, labels\n"
      ]
    },
    {
      "cell_type": "code",
      "execution_count": 34,
      "id": "TkLsQmhTYh5q",
      "metadata": {
        "id": "TkLsQmhTYh5q"
      },
      "outputs": [],
      "source": [
        "# load data into size (64, 64)\n",
        "img_size = (100, 100)\n",
        "batch_size = 64 # training sample number per batch\n",
        "data_range = [0,853]\n"
      ]
    },
    {
      "cell_type": "code",
      "execution_count": 35,
      "id": "tIo-ISERbK3U",
      "metadata": {
        "colab": {
          "base_uri": "https://localhost:8080/"
        },
        "id": "tIo-ISERbK3U",
        "outputId": "dd504deb-0f6b-4915-eab2-b36eef9b9d54"
      },
      "outputs": [],
      "source": [
        "# load training dataset\n",
        "data, labels = load_data(img_path, img_size, data_range)\n",
        "new_labels = np_utils.to_categorical(labels)\n",
        "np.save('data',data)\n",
        "np.save('target',new_labels)"
      ]
    },
    {
      "cell_type": "code",
      "execution_count": null,
      "id": "RugAMHYpSgss",
      "metadata": {
        "colab": {
          "base_uri": "https://localhost:8080/",
          "height": 286
        },
        "id": "RugAMHYpSgss",
        "outputId": "2555c8ac-8657-4238-cb69-eab6afddd007"
      },
      "outputs": [],
      "source": [
        "# show some images\n",
        "def imshow(img):\n",
        "    img = img / 2 + 0.5     \n",
        "    npimg = img.numpy()\n",
        "    if len(npimg.shape) > 2:\n",
        "        npimg = np.transpose(img, [1, 2, 0])\n",
        "    plt.figure\n",
        "    plt.imshow(npimg, 'gray')\n",
        "    plt.show()\n",
        "img, label = data[0][0][38][0], data[0][1][38]\n",
        "label = int(np.array(label))\n",
        "print(class_names[label])\n",
        "imshow(img)"
      ]
    },
    {
      "cell_type": "code",
      "execution_count": 37,
      "id": "71bc0c8f",
      "metadata": {},
      "outputs": [],
      "source": [
        "data=np.load('data.npy')\n",
        "target=np.load('target.npy')"
      ]
    },
    {
      "cell_type": "code",
      "execution_count": 48,
      "id": "44969ca6",
      "metadata": {},
      "outputs": [],
      "source": [
        "model=Sequential()\n",
        "\n",
        "model.add(Conv2D(200,(3,3),input_shape=data.shape[1:]))\n",
        "model.add(Activation('relu'))\n",
        "model.add(MaxPooling2D(pool_size=(2,2)))\n",
        "#The first CNN layer followed by Relu and MaxPooling layers\n",
        "\n",
        "model.add(Conv2D(100,(3,3)))\n",
        "model.add(Activation('relu'))\n",
        "model.add(MaxPooling2D(pool_size=(2,2)))\n",
        "#The second convolution layer followed by Relu and MaxPooling layers\n",
        "\n",
        "model.add(Flatten())\n",
        "model.add(Dropout(0.5))\n",
        "#Flatten layer to stack the output convolutions from second convolution layer\n",
        "model.add(Dense(50,activation='relu'))\n",
        "#Dense layer of 64 neurons\n",
        "model.add(Dense(3,activation='softmax'))\n",
        "#The Final layer with two outputs for two categories\n",
        "\n",
        "model.compile(loss='categorical_crossentropy',optimizer='adam',metrics=['accuracy'])"
      ]
    },
    {
      "cell_type": "code",
      "execution_count": 49,
      "id": "ae3acce9",
      "metadata": {},
      "outputs": [],
      "source": [
        "train_data, test_data, train_target, test_target=train_test_split(data,target,test_size=0.1)"
      ]
    },
    {
      "cell_type": "code",
      "execution_count": 51,
      "id": "26a24c77",
      "metadata": {},
      "outputs": [
        {
          "name": "stdout",
          "output_type": "stream",
          "text": [
            "Epoch 1/20\n",
            "73/73 [==============================] - ETA: 0s - loss: 0.4040 - accuracy: 0.8343"
          ]
        },
        {
          "name": "stderr",
          "output_type": "stream",
          "text": [
            "WARNING:absl:Found untraced functions such as _jit_compiled_convolution_op, _jit_compiled_convolution_op while saving (showing 2 of 2). These functions will not be directly callable after loading.\n"
          ]
        },
        {
          "name": "stdout",
          "output_type": "stream",
          "text": [
            "INFO:tensorflow:Assets written to: model-001.model\\assets\n"
          ]
        },
        {
          "name": "stderr",
          "output_type": "stream",
          "text": [
            "INFO:tensorflow:Assets written to: model-001.model\\assets\n"
          ]
        },
        {
          "name": "stdout",
          "output_type": "stream",
          "text": [
            "73/73 [==============================] - 65s 892ms/step - loss: 0.4040 - accuracy: 0.8343 - val_loss: 0.5031 - val_accuracy: 0.8086\n",
            "Epoch 2/20\n",
            "73/73 [==============================] - ETA: 0s - loss: 0.3432 - accuracy: 0.8636"
          ]
        },
        {
          "name": "stderr",
          "output_type": "stream",
          "text": [
            "WARNING:absl:Found untraced functions such as _jit_compiled_convolution_op, _jit_compiled_convolution_op while saving (showing 2 of 2). These functions will not be directly callable after loading.\n"
          ]
        },
        {
          "name": "stdout",
          "output_type": "stream",
          "text": [
            "INFO:tensorflow:Assets written to: model-002.model\\assets\n"
          ]
        },
        {
          "name": "stderr",
          "output_type": "stream",
          "text": [
            "INFO:tensorflow:Assets written to: model-002.model\\assets\n"
          ]
        },
        {
          "name": "stdout",
          "output_type": "stream",
          "text": [
            "73/73 [==============================] - 61s 842ms/step - loss: 0.3432 - accuracy: 0.8636 - val_loss: 0.4004 - val_accuracy: 0.8345\n",
            "Epoch 3/20\n",
            "73/73 [==============================] - ETA: 0s - loss: 0.3319 - accuracy: 0.8744"
          ]
        },
        {
          "name": "stderr",
          "output_type": "stream",
          "text": [
            "WARNING:absl:Found untraced functions such as _jit_compiled_convolution_op, _jit_compiled_convolution_op while saving (showing 2 of 2). These functions will not be directly callable after loading.\n"
          ]
        },
        {
          "name": "stdout",
          "output_type": "stream",
          "text": [
            "INFO:tensorflow:Assets written to: model-003.model\\assets\n"
          ]
        },
        {
          "name": "stderr",
          "output_type": "stream",
          "text": [
            "INFO:tensorflow:Assets written to: model-003.model\\assets\n"
          ]
        },
        {
          "name": "stdout",
          "output_type": "stream",
          "text": [
            "73/73 [==============================] - 70s 962ms/step - loss: 0.3319 - accuracy: 0.8744 - val_loss: 0.3968 - val_accuracy: 0.8362\n",
            "Epoch 4/20\n",
            "73/73 [==============================] - ETA: 0s - loss: 0.3078 - accuracy: 0.8878"
          ]
        },
        {
          "name": "stderr",
          "output_type": "stream",
          "text": [
            "WARNING:absl:Found untraced functions such as _jit_compiled_convolution_op, _jit_compiled_convolution_op while saving (showing 2 of 2). These functions will not be directly callable after loading.\n"
          ]
        },
        {
          "name": "stdout",
          "output_type": "stream",
          "text": [
            "INFO:tensorflow:Assets written to: model-004.model\\assets\n"
          ]
        },
        {
          "name": "stderr",
          "output_type": "stream",
          "text": [
            "INFO:tensorflow:Assets written to: model-004.model\\assets\n"
          ]
        },
        {
          "name": "stdout",
          "output_type": "stream",
          "text": [
            "73/73 [==============================] - 70s 952ms/step - loss: 0.3078 - accuracy: 0.8878 - val_loss: 0.3875 - val_accuracy: 0.8466\n",
            "Epoch 5/20\n",
            "73/73 [==============================] - 59s 816ms/step - loss: 0.2711 - accuracy: 0.9020 - val_loss: 0.3889 - val_accuracy: 0.8448\n",
            "Epoch 6/20\n",
            "73/73 [==============================] - ETA: 0s - loss: 0.2815 - accuracy: 0.8947"
          ]
        },
        {
          "name": "stderr",
          "output_type": "stream",
          "text": [
            "WARNING:absl:Found untraced functions such as _jit_compiled_convolution_op, _jit_compiled_convolution_op while saving (showing 2 of 2). These functions will not be directly callable after loading.\n"
          ]
        },
        {
          "name": "stdout",
          "output_type": "stream",
          "text": [
            "INFO:tensorflow:Assets written to: model-006.model\\assets\n"
          ]
        },
        {
          "name": "stderr",
          "output_type": "stream",
          "text": [
            "INFO:tensorflow:Assets written to: model-006.model\\assets\n"
          ]
        },
        {
          "name": "stdout",
          "output_type": "stream",
          "text": [
            "73/73 [==============================] - 62s 852ms/step - loss: 0.2815 - accuracy: 0.8947 - val_loss: 0.3664 - val_accuracy: 0.8638\n",
            "Epoch 7/20\n",
            "73/73 [==============================] - ETA: 0s - loss: 0.2533 - accuracy: 0.9089"
          ]
        },
        {
          "name": "stderr",
          "output_type": "stream",
          "text": [
            "WARNING:absl:Found untraced functions such as _jit_compiled_convolution_op, _jit_compiled_convolution_op while saving (showing 2 of 2). These functions will not be directly callable after loading.\n"
          ]
        },
        {
          "name": "stdout",
          "output_type": "stream",
          "text": [
            "INFO:tensorflow:Assets written to: model-007.model\\assets\n"
          ]
        },
        {
          "name": "stderr",
          "output_type": "stream",
          "text": [
            "INFO:tensorflow:Assets written to: model-007.model\\assets\n"
          ]
        },
        {
          "name": "stdout",
          "output_type": "stream",
          "text": [
            "73/73 [==============================] - 62s 855ms/step - loss: 0.2533 - accuracy: 0.9089 - val_loss: 0.3449 - val_accuracy: 0.8621\n",
            "Epoch 8/20\n",
            "73/73 [==============================] - 58s 790ms/step - loss: 0.2320 - accuracy: 0.9167 - val_loss: 0.3701 - val_accuracy: 0.8638\n",
            "Epoch 9/20\n",
            "73/73 [==============================] - 63s 861ms/step - loss: 0.2314 - accuracy: 0.9137 - val_loss: 0.3637 - val_accuracy: 0.8759\n",
            "Epoch 10/20\n",
            "73/73 [==============================] - 66s 903ms/step - loss: 0.2260 - accuracy: 0.9154 - val_loss: 0.4662 - val_accuracy: 0.8379\n",
            "Epoch 11/20\n",
            "73/73 [==============================] - 60s 823ms/step - loss: 0.2081 - accuracy: 0.9206 - val_loss: 0.3554 - val_accuracy: 0.8517\n",
            "Epoch 12/20\n",
            "73/73 [==============================] - 67s 916ms/step - loss: 0.1928 - accuracy: 0.9344 - val_loss: 0.3852 - val_accuracy: 0.8724\n",
            "Epoch 13/20\n",
            "73/73 [==============================] - 67s 920ms/step - loss: 0.1855 - accuracy: 0.9331 - val_loss: 0.3742 - val_accuracy: 0.8534\n",
            "Epoch 14/20\n",
            "73/73 [==============================] - 67s 912ms/step - loss: 0.1828 - accuracy: 0.9344 - val_loss: 0.3697 - val_accuracy: 0.8586\n",
            "Epoch 15/20\n",
            "73/73 [==============================] - 64s 876ms/step - loss: 0.1629 - accuracy: 0.9422 - val_loss: 0.3953 - val_accuracy: 0.8638\n",
            "Epoch 16/20\n",
            "73/73 [==============================] - 70s 961ms/step - loss: 0.1647 - accuracy: 0.9469 - val_loss: 0.4593 - val_accuracy: 0.8517\n",
            "Epoch 17/20\n",
            "73/73 [==============================] - 62s 846ms/step - loss: 0.1526 - accuracy: 0.9504 - val_loss: 0.4475 - val_accuracy: 0.8603\n",
            "Epoch 18/20\n",
            "73/73 [==============================] - 73s 1s/step - loss: 0.1419 - accuracy: 0.9547 - val_loss: 0.4097 - val_accuracy: 0.8500\n",
            "Epoch 19/20\n",
            "73/73 [==============================] - 68s 926ms/step - loss: 0.1322 - accuracy: 0.9560 - val_loss: 0.4528 - val_accuracy: 0.8569\n",
            "Epoch 20/20\n",
            "73/73 [==============================] - 68s 930ms/step - loss: 0.1272 - accuracy: 0.9564 - val_loss: 0.4472 - val_accuracy: 0.8483\n"
          ]
        }
      ],
      "source": [
        "checkpoint = ModelCheckpoint('model-{epoch:03d}.model',monitor='val_loss',verbose=0,save_best_only=True,mode='auto')\n",
        "history=model.fit(train_data, train_target,epochs=20,callbacks=[checkpoint],validation_split=0.2)"
      ]
    },
    {
      "cell_type": "code",
      "execution_count": 52,
      "id": "44ffba77",
      "metadata": {},
      "outputs": [
        {
          "data": {
            "image/png": "[encoded data removed]",
            "text/plain": [
              "<Figure size 640x480 with 1 Axes>"
            ]
          },
          "metadata": {},
          "output_type": "display_data"
        }
      ],
      "source": [
        "plt.plot(history.history['loss'],'r',label='training loss')\n",
        "plt.plot(history.history['val_loss'],label='validation loss')\n",
        "plt.xlabel('# epochs')\n",
        "plt.ylabel('loss')\n",
        "plt.legend()\n",
        "plt.show()"
      ]
    },
    {
      "cell_type": "code",
      "execution_count": 53,
      "id": "01c474d7",
      "metadata": {},
      "outputs": [
        {
          "data": {
            "image/png": "[encoded data removed]",
            "text/plain": [
              "<Figure size 640x480 with 1 Axes>"
            ]
          },
          "metadata": {},
          "output_type": "display_data"
        }
      ],
      "source": [
        "plt.plot(history.history['accuracy'],'r',label='training accuracy')\n",
        "plt.plot(history.history['val_accuracy'],label='validation accuracy')\n",
        "plt.xlabel('# epochs')\n",
        "plt.ylabel('loss')\n",
        "plt.legend()\n",
        "plt.show()"
      ]
    }
  ],
  "metadata": {
    "accelerator": "GPU",
    "colab": {
      "provenance": []
    },
    "gpuClass": "standard",
    "kernelspec": {
      "display_name": "Python 3.10.6 64-bit",
      "language": "python",
      "name": "python3"
    },
    "language_info": {
      "codemirror_mode": {
        "name": "ipython",
        "version": 3
      },
      "file_extension": ".py",
      "mimetype": "text/x-python",
      "name": "python",
      "nbconvert_exporter": "python",
      "pygments_lexer": "ipython3",
      "version": "3.10.6"
    },
    "vscode": {
      "interpreter": {
        "hash": "cd10f54745f1a36614bac30fc9d98488d454f57a410e7e8ecb7daf3f6c4e20ae"
      }
    }
  },
  "nbformat": 4,
  "nbformat_minor": 5
}
